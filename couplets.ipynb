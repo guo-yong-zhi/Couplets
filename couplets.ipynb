{
 "cells": [
  {
   "cell_type": "code",
   "execution_count": 1,
   "metadata": {},
   "outputs": [
    {
     "name": "stdout",
     "output_type": "stream",
     "text": [
      "Automatic calling is: Smart\n"
     ]
    }
   ],
   "source": [
    "%autocall 1\n",
    "%load_ext autoreload\n",
    "%autoreload 2\n",
    "import sys\n",
    "sys.path.append(\"..\")\n",
    "from scienv import *"
   ]
  },
  {
   "cell_type": "code",
   "execution_count": 2,
   "metadata": {},
   "outputs": [],
   "source": [
    "import utils as ut"
   ]
  },
  {
   "cell_type": "code",
   "execution_count": 3,
   "metadata": {},
   "outputs": [],
   "source": [
    "from torchtext.data import Field, Example, TabularDataset\n",
    "from torchtext.data import BucketIterator, Iterator\n",
    "from torchtext.datasets import TranslationDataset\n",
    "import torch as tc\n",
    "from torchtext import data"
   ]
  },
  {
   "cell_type": "code",
   "execution_count": 5,
   "metadata": {},
   "outputs": [],
   "source": [
    "import torch\n",
    "DEVICE = torch.device(\"cuda\" if torch.cuda.is_available() else \"cpu\")"
   ]
  },
  {
   "cell_type": "markdown",
   "metadata": {},
   "source": [
    "# dataset"
   ]
  },
  {
   "cell_type": "code",
   "execution_count": 6,
   "metadata": {},
   "outputs": [],
   "source": [
    "PAD_TOKEN = \"#\"\n",
    "MASK_TOKEN = \"[]\"\n",
    "SRC = Field(sequential=True, tokenize=lambda s:s.strip().split(' '),\n",
    "                     use_vocab=True, batch_first=True,\n",
    "                     eos_token=None, init_token=None,\n",
    "                     include_lengths=True, pad_token=PAD_TOKEN)\n",
    "TRG = Field(sequential=True, tokenize=lambda s:s.strip().split(' '),\n",
    "                     use_vocab=True, batch_first=True,\n",
    "                     eos_token=None, init_token=None,\n",
    "                     include_lengths=True, pad_token=PAD_TOKEN, is_target=True)"
   ]
  },
  {
   "cell_type": "code",
   "execution_count": 7,
   "metadata": {},
   "outputs": [],
   "source": [
    "fields = [(\"src\", SRC), (\"trg\", TRG)]"
   ]
  },
  {
   "cell_type": "code",
   "execution_count": 8,
   "metadata": {},
   "outputs": [],
   "source": [
    "teDS = TranslationDataset(path='dataset/test/', exts=('in.txt','out.txt'), fields=fields)\n",
    "trDS = TranslationDataset(path='dataset/train/', exts=('in.txt','out.txt'), fields=fields)"
   ]
  },
  {
   "cell_type": "code",
   "execution_count": 9,
   "metadata": {},
   "outputs": [],
   "source": [
    "teDS_r = TranslationDataset(path='dataset/test/', exts=('out.txt','in.txt'), fields=fields)\n",
    "trDS_r = TranslationDataset(path='dataset/train/', exts=('out.txt','in.txt'), fields=fields)"
   ]
  },
  {
   "cell_type": "code",
   "execution_count": 10,
   "metadata": {},
   "outputs": [
    {
     "data": {
      "text/plain": [
       "(770491, 4000)"
      ]
     },
     "execution_count": 10,
     "metadata": {},
     "output_type": "execute_result"
    }
   ],
   "source": [
    "len(trDS),len(teDS)"
   ]
  },
  {
   "cell_type": "code",
   "execution_count": 11,
   "metadata": {},
   "outputs": [
    {
     "data": {
      "text/plain": [
       "6745"
      ]
     },
     "execution_count": 11,
     "metadata": {},
     "output_type": "execute_result"
    }
   ],
   "source": [
    "SRC.build_vocab(trDS, specials=[MASK_TOKEN], min_freq=2)\n",
    "TRG.vocab = SRC.vocab\n",
    "VOCAB = SRC.vocab\n",
    "n_vocab = len(VOCAB)\n",
    "n_vocab"
   ]
  },
  {
   "cell_type": "raw",
   "metadata": {},
   "source": [
    "import json\n",
    "with open('vocab.json', 'w') as f:\n",
    "    json.dump(VOCAB.itos, f)"
   ]
  },
  {
   "cell_type": "code",
   "execution_count": 12,
   "metadata": {},
   "outputs": [],
   "source": [
    "class Batch:\n",
    "    def __init__(self, src=None, trg=None, \n",
    "                 src_pad_mask=None, trg_pad_mask=None,\n",
    "                 trg_mask=None, trg_y=None):\n",
    "        self.src=src\n",
    "        self.trg=trg\n",
    "        self.src_pad_mask=src_pad_mask\n",
    "        self.trg_pad_mask=trg_pad_mask\n",
    "        self.trg_mask=trg_mask\n",
    "        self.trg_y=trg_y\n",
    "    def __repr__(self):\n",
    "        return 'Batch{\\n  src: %s\\n  trg: %s}'%(itos(self.src.cpu().numpy()),\n",
    "                                  itos(self.trg.cpu().numpy()))\n",
    "    \n",
    "def format_couplets_str(first, second='', stoi={}, mask_token=\"[]\"):\n",
    "    first = list(first.replace(' ', '').replace(',', '，').replace('.', '。'))\n",
    "    second = [s.replace(' ', mask_token) for s in second]\n",
    "    l = (len(first)-len(second))\n",
    "    assert l >= 0\n",
    "    second = second + [mask_token] * l\n",
    "    return [stoi.get(s, s) for s in first], [stoi.get(s, s) for s in second]\n",
    "\n",
    "def str_to_batch(first, second, stoi, mask_token):\n",
    "    src, trg = format_couplets_str(first, second, stoi, mask_token)\n",
    "    src = tc.LongTensor(src).unsqueeze(0)\n",
    "    trg = tc.LongTensor(trg).unsqueeze(0)\n",
    "    src_pad_mask = tc.ones_like(src, dtype=bool)\n",
    "    trg_pad_mask = tc.ones_like(trg, dtype=bool)\n",
    "    trg_mask = trg != stoi[mask_token]\n",
    "    return Batch(src, trg, src_pad_mask,trg_pad_mask,trg_mask)\n",
    "\n",
    "def itos(i, itos=VOCAB.itos):\n",
    "    return ut.apply(''.join, ut.apply(itos.__getitem__, i), \n",
    "                    at=lambda c:not ut.iscollection(c[0][0]))"
   ]
  },
  {
   "cell_type": "code",
   "execution_count": 13,
   "metadata": {},
   "outputs": [],
   "source": [
    "class MyIterator(data.Iterator):\n",
    "    def create_batches(self):\n",
    "        if self.train:\n",
    "            def pool(d, random_shuffler):\n",
    "                for p in data.batch(d, self.batch_size * 100):\n",
    "                    p_batch = data.batch(\n",
    "                        sorted(p, key=self.sort_key),\n",
    "                        self.batch_size, self.batch_size_fn)\n",
    "                    for b in random_shuffler(list(p_batch)):\n",
    "                        yield b\n",
    "            self.batches = pool(self.data(), self.random_shuffler)\n",
    "            \n",
    "        else:\n",
    "            self.batches = []\n",
    "            for b in data.batch(self.data(), self.batch_size,\n",
    "                                          self.batch_size_fn):\n",
    "                self.batches.append(sorted(b, key=self.sort_key))"
   ]
  },
  {
   "cell_type": "code",
   "execution_count": 14,
   "metadata": {},
   "outputs": [],
   "source": [
    "def gen_trg_mask(trg, lens, r, pad):\n",
    "    size = trg.size()\n",
    "    mask = tc.rand(size) > r\n",
    "    pad_mask = trg != pad\n",
    "    ri = [np.random.randint(i) for i in lens] #至少mask1个\n",
    "    mask[list(range(len(ri))),ri] = False    \n",
    "    return mask, pad_mask\n",
    "\n",
    "def gen_src_mask(src, pad):\n",
    "    pad_mask = src != pad\n",
    "    return pad_mask\n"
   ]
  },
  {
   "cell_type": "code",
   "execution_count": 15,
   "metadata": {},
   "outputs": [],
   "source": [
    "def parse_pybatch(b, mask_ratio='rand'):\n",
    "    mask_ratio = np.random.rand() if mask_ratio=='rand' else mask_ratio\n",
    "    src = b.src[0]\n",
    "    trg = b.trg[0]\n",
    "    trg_mask, trg_pad_mask = gen_trg_mask(trg, b.trg[1], mask_ratio, VOCAB.stoi[PAD_TOKEN])\n",
    "    src_pad_mask = gen_src_mask(src, VOCAB.stoi[PAD_TOKEN])\n",
    "    trg_mask = trg_mask.to(DEVICE)\n",
    "    trg_pad_mask = trg_pad_mask.to(DEVICE)\n",
    "    src_pad_mask = src_pad_mask.to(DEVICE)\n",
    "    trg_m = trg.masked_fill(~trg_mask, VOCAB.stoi[MASK_TOKEN])\n",
    "    trg_m.masked_fill_(~trg_pad_mask, VOCAB.stoi[PAD_TOKEN])\n",
    "    return Batch(src, trg_m, src_pad_mask,trg_pad_mask,trg_mask,trg)\n",
    "\n"
   ]
  },
  {
   "cell_type": "code",
   "execution_count": 16,
   "metadata": {},
   "outputs": [
    {
     "data": {
      "text/plain": [
       "Batch{\n",
       "  src: ['白日依山尽']\n",
       "  trg: ['[]河[][]流']}"
      ]
     },
     "execution_count": 16,
     "metadata": {},
     "output_type": "execute_result"
    }
   ],
   "source": [
    "str_to_batch('白日依山尽',' 河  流', mask_token=MASK_TOKEN, stoi=VOCAB.stoi)"
   ]
  },
  {
   "cell_type": "code",
   "execution_count": 17,
   "metadata": {},
   "outputs": [
    {
     "name": "stdout",
     "output_type": "stream",
     "text": [
      "Batch{\n",
      "  src: ['无尽枫红舒望眼', '痴我风姿应是月', '题到秋深诗句冷', '发情牛马难成对', '好烟孬烟都不好']\n",
      "  trg: ['[]时柳[]展[]眉', '[]伊倩影胜如花', '[]回花落客魂寒', '得志[]狼[]简[]', '非语诽[][][][]']}\n",
      "['几时柳绿展愁眉', '思伊倩影胜如花', '梦回花落客魂寒', '得志虎狼不简单', '非语诽语尽言非']\n"
     ]
    }
   ],
   "source": [
    "IT = MyIterator(teDS, 5, sort_key=lambda x: len(x.src), shuffle=True, device=tc.device('cuda'))\n",
    "\n",
    "for b in IT:\n",
    "    r = parse_pybatch(b)\n",
    "    print(r)\n",
    "    print(itos(r.trg_y.cpu().numpy()))\n",
    "    break"
   ]
  },
  {
   "cell_type": "code",
   "execution_count": 14,
   "metadata": {},
   "outputs": [
    {
     "data": {
      "text/plain": [
       "(torch.Size([5, 5]), torch.Size([5, 5]), torch.Size([5, 5]))"
      ]
     },
     "execution_count": 14,
     "metadata": {},
     "output_type": "execute_result"
    }
   ],
   "source": [
    "r.trg_mask.shape,r.trg_pad_mask.shape,r.src_pad_mask.shape"
   ]
  },
  {
   "cell_type": "code",
   "execution_count": 15,
   "metadata": {},
   "outputs": [
    {
     "data": {
      "text/plain": [
       "(torch.Size([5, 5]), torch.Size([5, 5]))"
      ]
     },
     "execution_count": 15,
     "metadata": {},
     "output_type": "execute_result"
    }
   ],
   "source": [
    "r.src.shape,r.trg.shape"
   ]
  },
  {
   "cell_type": "code",
   "execution_count": 365,
   "metadata": {},
   "outputs": [
    {
     "data": {
      "text/plain": [
       "torch.int64"
      ]
     },
     "execution_count": 365,
     "metadata": {},
     "output_type": "execute_result"
    }
   ],
   "source": [
    "r.src.dtype"
   ]
  },
  {
   "cell_type": "code",
   "execution_count": 16,
   "metadata": {},
   "outputs": [
    {
     "data": {
      "text/plain": [
       "tensor([[True, True, True, True, True],\n",
       "        [True, True, True, True, True],\n",
       "        [True, True, True, True, True],\n",
       "        [True, True, True, True, True],\n",
       "        [True, True, True, True, True]], device='cuda:0')"
      ]
     },
     "execution_count": 16,
     "metadata": {},
     "output_type": "execute_result"
    }
   ],
   "source": [
    "r.src_pad_mask"
   ]
  },
  {
   "cell_type": "markdown",
   "metadata": {},
   "source": [
    "# model"
   ]
  },
  {
   "cell_type": "code",
   "execution_count": 38,
   "metadata": {},
   "outputs": [],
   "source": [
    "import torch\n",
    "import torch as tc\n",
    "import torch.nn as nn\n",
    "import torch.nn.functional as F\n",
    "import math, copy, time\n",
    "from torch.autograd import Variable\n",
    "from torch.utils.tensorboard import SummaryWriter"
   ]
  },
  {
   "cell_type": "code",
   "execution_count": 80,
   "metadata": {},
   "outputs": [],
   "source": [
    "from model import *"
   ]
  },
  {
   "cell_type": "code",
   "execution_count": 20,
   "metadata": {},
   "outputs": [],
   "source": [
    "d_model = 512\n",
    "em = Embeddings(d_model, n_vocab)"
   ]
  },
  {
   "cell_type": "code",
   "execution_count": 82,
   "metadata": {},
   "outputs": [],
   "source": [
    "model = make_model(n_vocab, n_vocab)\n",
    "model.to(DEVICE);"
   ]
  },
  {
   "cell_type": "code",
   "execution_count": 22,
   "metadata": {},
   "outputs": [],
   "source": [
    "o = model(r.src, r.trg, r.src_pad_mask.unsqueeze(1), r.trg_pad_mask.unsqueeze(1))"
   ]
  },
  {
   "cell_type": "code",
   "execution_count": 23,
   "metadata": {},
   "outputs": [
    {
     "data": {
      "text/plain": [
       "torch.Size([5, 7, 512])"
      ]
     },
     "execution_count": 23,
     "metadata": {},
     "output_type": "execute_result"
    }
   ],
   "source": [
    "o.shape"
   ]
  },
  {
   "cell_type": "code",
   "execution_count": 24,
   "metadata": {},
   "outputs": [
    {
     "name": "stderr",
     "output_type": "stream",
     "text": [
      "/mnt/cache/guoyongzhi/.conda/envs/gyz37/lib/python3.7/site-packages/torch/nn/_reduction.py:43: UserWarning: size_average and reduce args will be deprecated, please use reduction='sum' instead.\n",
      "  warnings.warn(warning.format(ret))\n"
     ]
    }
   ],
   "source": [
    "criterion = LabelSmoothing(size=n_vocab, padding_idx=VOCAB.stoi[PAD_TOKEN], smoothing=0.0)"
   ]
  },
  {
   "cell_type": "code",
   "execution_count": 25,
   "metadata": {},
   "outputs": [],
   "source": [
    "# opt = torch.optim.Adam(model.parameters(), lr=0.001, betas=(0.9, 0.98), eps=1e-9)\n",
    "opt=None\n",
    "loss_compute = SimpleLossCompute(model.generator, criterion, opt)"
   ]
  },
  {
   "cell_type": "code",
   "execution_count": 26,
   "metadata": {},
   "outputs": [
    {
     "data": {
      "text/plain": [
       "51.37674331665039"
      ]
     },
     "execution_count": 26,
     "metadata": {},
     "output_type": "execute_result"
    }
   ],
   "source": [
    "o = model(r.src, r.trg, r.src_pad_mask.unsqueeze(1), r.trg_pad_mask.unsqueeze(1))\n",
    "loss_compute(o, r.trg_y, ignore_mask=r.trg_mask)"
   ]
  },
  {
   "cell_type": "code",
   "execution_count": 327,
   "metadata": {},
   "outputs": [],
   "source": [
    "trainwriter = SummaryWriter('nomem/train')\n",
    "testwriter = SummaryWriter('nomem/test')"
   ]
  },
  {
   "cell_type": "code",
   "execution_count": 328,
   "metadata": {},
   "outputs": [
    {
     "name": "stderr",
     "output_type": "stream",
     "text": [
      "/mnt/cache/guoyongzhi/couplets/model.py:218: TracerWarning: Converting a tensor to a Python index might cause the trace to be incorrect. We can't record the data flow of Python values, so this value will be treated as a constant in the future. This means that the trace might not generalize to other inputs!\n",
      "  pos = self.pe[:, :x.size(1)]\n",
      "/mnt/cache/guoyongzhi/couplets/model.py:148: TracerWarning: Converting a tensor to a Python float might cause the trace to be incorrect. We can't record the data flow of Python values, so this value will be treated as a constant in the future. This means that the trace might not generalize to other inputs!\n",
      "  / math.sqrt(d_k)\n"
     ]
    }
   ],
   "source": [
    "trainwriter.add_graph(model, (r.src, r.trg, r.src_pad_mask.unsqueeze(1), r.trg_pad_mask.unsqueeze(1)))\n",
    "trainwriter.flush()"
   ]
  },
  {
   "cell_type": "markdown",
   "metadata": {},
   "source": [
    "# train"
   ]
  },
  {
   "cell_type": "code",
   "execution_count": 330,
   "metadata": {},
   "outputs": [],
   "source": [
    "firsts = ['天与云与山与水，上下一白',\n",
    "          '两个黄鹂鸣翠柳',\n",
    "          '无边落木萧萧下', \n",
    "          '月落乌啼霜满天', \n",
    "          '提刀上马，江山如画', \n",
    "          '兰亭临帖，行书如行云流水',\n",
    "          '荒烟漫草的年头，就连分手都很沉默',\n",
    "          '一条大河波浪宽，风吹稻花香两岸',\n",
    "          '我欲成仙，快乐齐天',\n",
    "          '只有刚强的人，才有神圣的意志，凡是战斗的人，才能取得胜利',\n",
    "          '？',\n",
    "         ]"
   ]
  },
  {
   "cell_type": "code",
   "execution_count": 331,
   "metadata": {},
   "outputs": [],
   "source": [
    "from model import *"
   ]
  },
  {
   "cell_type": "code",
   "execution_count": 332,
   "metadata": {},
   "outputs": [],
   "source": [
    "def run_epoch(data_iter, model, loss_compute, mask_ratio='rand', step_call_back=lambda l:None):\n",
    "    \"Standard Training and Logging Function\"\n",
    "    start = time.time()\n",
    "    total_tokens = 0\n",
    "    total_loss = 0\n",
    "    tokens = 0\n",
    "    pred_tokens = 0\n",
    "    total_pred_tokens = 0\n",
    "    for i, batch in enumerate(data_iter):\n",
    "        batch = parse_pybatch(batch,mask_ratio=mask_ratio)\n",
    "        out = model.forward(batch.src,batch.trg, batch.src_pad_mask.unsqueeze(1), batch.trg_pad_mask.unsqueeze(1))\n",
    "        ntokens = batch.src_pad_mask.sum().float()\n",
    "        ntokens_pred = (batch.trg_pad_mask&(~batch.trg_mask)).sum().float()\n",
    "        loss = loss_compute(out, batch.trg_y, ntokens, ignore_mask=batch.trg_mask)\n",
    "        total_loss += loss\n",
    "        total_tokens += ntokens.item()\n",
    "        tokens += ntokens.item()\n",
    "        pred_tokens += ntokens_pred.item()\n",
    "        total_pred_tokens += ntokens_pred.item()\n",
    "        step_call_back(loss/ntokens_pred)\n",
    "        if i % 50 == 1:\n",
    "            elapsed = time.time() - start\n",
    "            print(\"Step: %d Loss: %f Tokens per Sec: %f. mask ratio: %f\" %\n",
    "                    (i, loss / ntokens_pred, tokens / elapsed, pred_tokens/tokens))\n",
    "            start = time.time()\n",
    "            tokens = 0\n",
    "            pred_tokens = 0\n",
    "    return total_loss/total_pred_tokens\n",
    "\n",
    "def train_log_cbk(loss):\n",
    "    global step_counter\n",
    "    step_counter += 1\n",
    "    trainwriter.add_scalar('loss', loss, step_counter)"
   ]
  },
  {
   "cell_type": "code",
   "execution_count": 333,
   "metadata": {},
   "outputs": [
    {
     "name": "stdout",
     "output_type": "stream",
     "text": [
      "8 GPUs\n"
     ]
    }
   ],
   "source": [
    "print(torch.cuda.device_count(), 'GPUs')\n",
    "devices = list(range(torch.cuda.device_count()))"
   ]
  },
  {
   "cell_type": "code",
   "execution_count": 334,
   "metadata": {},
   "outputs": [
    {
     "name": "stderr",
     "output_type": "stream",
     "text": [
      "/mnt/cache/guoyongzhi/.conda/envs/gyz37/lib/python3.7/site-packages/torch/nn/_reduction.py:43: UserWarning: size_average and reduce args will be deprecated, please use reduction='sum' instead.\n",
      "  warnings.warn(warning.format(ret))\n"
     ]
    },
    {
     "data": {
      "text/plain": [
       "(52825311, 52825311)"
      ]
     },
     "execution_count": 334,
     "metadata": {},
     "output_type": "execute_result"
    }
   ],
   "source": [
    "IT_r = MyIterator(trDS_r, 4000, sort_key=lambda x: len(x.src), shuffle=True, device=torch.device('cuda'))\n",
    "teIT_r = MyIterator(teDS_r, 240, sort_key=lambda x: len(x.src), shuffle=True, device=torch.device('cuda'))\n",
    "IT = MyIterator(trDS, 4000, sort_key=lambda x: len(x.src), shuffle=True, device=torch.device('cuda'))\n",
    "teIT = MyIterator(teDS, 240, sort_key=lambda x: len(x.src), shuffle=True, device=torch.device('cuda'))\n",
    "\n",
    "model = make_model(n_vocab, n_vocab)\n",
    "model.to(DEVICE)\n",
    "criterion = LabelSmoothing(size=n_vocab, padding_idx=VOCAB.stoi[PAD_TOKEN], smoothing=0.7)\n",
    "criterion = criterion.to(DEVICE)\n",
    "criterion = nn.DataParallel(criterion, device_ids=devices)\n",
    "opt = torch.optim.Adam(model.parameters(), lr=0.001, betas=(0.9, 0.98), eps=1e-9)\n",
    "generator = nn.DataParallel(model.generator, device_ids=devices)\n",
    "loss_compute = SimpleLossCompute(generator, criterion, opt)\n",
    "model_par = nn.DataParallel(model, device_ids=devices)\n",
    "step_counter = 0\n",
    "para_num = sum(p.numel() for p in model_par.parameters())\n",
    "trainable_para_num = sum(p.numel() for p in model_par.parameters() if p.requires_grad)\n",
    "para_num, trainable_para_num"
   ]
  },
  {
   "cell_type": "code",
   "execution_count": 335,
   "metadata": {},
   "outputs": [],
   "source": [
    "opt = torch.optim.Adam(model.parameters(), lr=0.0005, betas=(0.9, 0.98), eps=1e-9)"
   ]
  },
  {
   "cell_type": "code",
   "execution_count": 336,
   "metadata": {
    "collapsed": true,
    "jupyter": {
     "outputs_hidden": true
    }
   },
   "outputs": [
    {
     "name": "stderr",
     "output_type": "stream",
     "text": [
      "/mnt/cache/guoyongzhi/.conda/envs/gyz37/lib/python3.7/site-packages/torch/nn/parallel/_functions.py:61: UserWarning: Was asked to gather along dimension 0, but all input tensors were scalars; will instead unsqueeze and return a vector.\n",
      "  warnings.warn('Was asked to gather along dimension 0, but all '\n"
     ]
    },
    {
     "name": "stdout",
     "output_type": "stream",
     "text": [
      "Step: 1 Loss: 1.917112 Tokens per Sec: 28459.874830. mask ratio: 0.370994\n",
      "Step: 51 Loss: 1.748450 Tokens per Sec: 32371.496137. mask ratio: 0.576258\n",
      "Step: 101 Loss: 1.799467 Tokens per Sec: 30848.980159. mask ratio: 0.609501\n",
      "Step: 151 Loss: 1.754695 Tokens per Sec: 33107.219298. mask ratio: 0.507312\n",
      "Step: 1 Loss: 1.872898 Tokens per Sec: 10353.018917. mask ratio: 0.257455\n",
      "@ 0 1.7741159352484595\n",
      "Step: 1 Loss: 1.743553 Tokens per Sec: 17459.377144. mask ratio: 0.334083\n",
      "Step: 51 Loss: 1.797242 Tokens per Sec: 33893.259417. mask ratio: 0.539785\n",
      "Step: 101 Loss: 1.771760 Tokens per Sec: 30394.028804. mask ratio: 0.528859\n",
      "Step: 151 Loss: 1.727259 Tokens per Sec: 37029.062249. mask ratio: 0.595890\n",
      "Step: 1 Loss: 1.738872 Tokens per Sec: 13104.386689. mask ratio: 0.749217\n",
      "@ 1 1.746022359752104\n",
      "Step: 1 Loss: 1.702263 Tokens per Sec: 19840.216587. mask ratio: 0.338175\n",
      "Step: 51 Loss: 1.741686 Tokens per Sec: 30984.419383. mask ratio: 0.542386\n",
      "Step: 101 Loss: 1.748284 Tokens per Sec: 34331.351806. mask ratio: 0.562993\n",
      "Step: 151 Loss: 1.697698 Tokens per Sec: 33144.839807. mask ratio: 0.537981\n",
      "Step: 1 Loss: 1.546581 Tokens per Sec: 15279.821597. mask ratio: 0.377921\n",
      "@ 2 1.6832763717789196\n",
      "Step: 1 Loss: 1.692389 Tokens per Sec: 25356.159395. mask ratio: 0.783591\n",
      "Step: 51 Loss: 1.656390 Tokens per Sec: 34112.130307. mask ratio: 0.521598\n",
      "Step: 101 Loss: 1.557410 Tokens per Sec: 30009.249759. mask ratio: 0.565293\n",
      "Step: 151 Loss: 1.643466 Tokens per Sec: 33199.522637. mask ratio: 0.559994\n",
      "Step: 1 Loss: 1.518770 Tokens per Sec: 14371.901412. mask ratio: 0.447523\n",
      "@ 3 1.61624127783956\n",
      "Step: 1 Loss: 1.531229 Tokens per Sec: 15428.786062. mask ratio: 0.616399\n",
      "Step: 51 Loss: 1.503058 Tokens per Sec: 36590.689251. mask ratio: 0.570644\n",
      "Step: 101 Loss: 1.616832 Tokens per Sec: 31498.445849. mask ratio: 0.492468\n",
      "Step: 151 Loss: 1.488768 Tokens per Sec: 30939.388970. mask ratio: 0.576156\n",
      "Step: 1 Loss: 1.593465 Tokens per Sec: 8818.624704. mask ratio: 0.659513\n",
      "@ 4 1.5896758847041785\n",
      "Step: 1 Loss: 1.499582 Tokens per Sec: 29734.260717. mask ratio: 0.426035\n",
      "Step: 51 Loss: 1.460816 Tokens per Sec: 31817.952595. mask ratio: 0.503139\n",
      "Step: 101 Loss: 1.468629 Tokens per Sec: 31908.196548. mask ratio: 0.553207\n",
      "Step: 151 Loss: 1.493416 Tokens per Sec: 30875.638625. mask ratio: 0.521164\n",
      "Step: 1 Loss: 1.446619 Tokens per Sec: 16089.144802. mask ratio: 0.266861\n",
      "@ 5 1.5025650409042193\n",
      "Step: 1 Loss: 1.548306 Tokens per Sec: 18504.621378. mask ratio: 0.809375\n",
      "Step: 51 Loss: 1.461346 Tokens per Sec: 31513.692763. mask ratio: 0.500804\n",
      "Step: 101 Loss: 1.395383 Tokens per Sec: 35574.107804. mask ratio: 0.573590\n",
      "Step: 151 Loss: 1.485394 Tokens per Sec: 33888.304135. mask ratio: 0.529139\n",
      "Step: 1 Loss: 1.425709 Tokens per Sec: 14285.731627. mask ratio: 0.655571\n",
      "@ 6 1.5446833407873466\n",
      "Step: 1 Loss: 1.548928 Tokens per Sec: 13643.349370. mask ratio: 0.683607\n",
      "Step: 51 Loss: 1.405594 Tokens per Sec: 33485.889404. mask ratio: 0.583109\n",
      "Step: 101 Loss: 1.460791 Tokens per Sec: 32920.657632. mask ratio: 0.523381\n",
      "Step: 151 Loss: 1.541305 Tokens per Sec: 31813.328603. mask ratio: 0.606189\n",
      "Step: 1 Loss: 1.583166 Tokens per Sec: 8133.104270. mask ratio: 0.896875\n",
      "@ 7 1.5537942049821973\n",
      "Step: 1 Loss: 1.398223 Tokens per Sec: 18937.241636. mask ratio: 0.562882\n",
      "Step: 51 Loss: 1.456969 Tokens per Sec: 31686.370725. mask ratio: 0.602069\n",
      "Step: 101 Loss: 1.485199 Tokens per Sec: 33151.037377. mask ratio: 0.583680\n",
      "Step: 151 Loss: 1.528810 Tokens per Sec: 31098.579754. mask ratio: 0.583319\n",
      "Step: 1 Loss: 1.544823 Tokens per Sec: 9415.289249. mask ratio: 0.537202\n",
      "@ 8 1.5646780954127966\n",
      "Step: 1 Loss: 1.505820 Tokens per Sec: 13998.861048. mask ratio: 0.599946\n",
      "Step: 51 Loss: 1.505070 Tokens per Sec: 31460.566137. mask ratio: 0.595228\n",
      "Step: 101 Loss: 1.471651 Tokens per Sec: 32770.666189. mask ratio: 0.561790\n",
      "Step: 151 Loss: 1.500027 Tokens per Sec: 30877.662865. mask ratio: 0.589971\n",
      "Step: 1 Loss: 1.371731 Tokens per Sec: 12650.264713. mask ratio: 0.247953\n",
      "@ 9 1.4678185452627428\n",
      "Step: 1 Loss: 1.450709 Tokens per Sec: 12959.678790. mask ratio: 0.404536\n",
      "Step: 51 Loss: 1.341054 Tokens per Sec: 32835.405768. mask ratio: 0.561730\n",
      "Step: 101 Loss: 1.379214 Tokens per Sec: 31436.033095. mask ratio: 0.587565\n",
      "Step: 151 Loss: 1.411659 Tokens per Sec: 32497.159645. mask ratio: 0.653139\n",
      "Step: 1 Loss: 1.380334 Tokens per Sec: 17027.546465. mask ratio: 0.486474\n",
      "@ 10 1.5204921333903694\n",
      "Step: 1 Loss: 1.525119 Tokens per Sec: 12883.807789. mask ratio: 0.618806\n",
      "Step: 51 Loss: 1.400007 Tokens per Sec: 30522.375098. mask ratio: 0.500221\n",
      "Step: 101 Loss: 1.402944 Tokens per Sec: 36114.479546. mask ratio: 0.530676\n",
      "Step: 151 Loss: 1.381160 Tokens per Sec: 32953.343937. mask ratio: 0.556814\n",
      "Step: 1 Loss: 1.609668 Tokens per Sec: 10182.864096. mask ratio: 0.801874\n",
      "@ 11 1.531457343186776\n",
      "Step: 1 Loss: 1.386871 Tokens per Sec: 18932.772989. mask ratio: 0.564132\n",
      "Step: 51 Loss: 1.515564 Tokens per Sec: 31061.862033. mask ratio: 0.562889\n",
      "Step: 101 Loss: 1.397047 Tokens per Sec: 32372.650081. mask ratio: 0.620566\n",
      "Step: 151 Loss: 1.391943 Tokens per Sec: 32758.554774. mask ratio: 0.527094\n",
      "Step: 1 Loss: 1.314866 Tokens per Sec: 13419.260667. mask ratio: 0.360773\n",
      "@ 12 1.5030588107475873\n",
      "Step: 1 Loss: 1.378557 Tokens per Sec: 28097.437840. mask ratio: 0.768710\n",
      "Step: 51 Loss: 1.389511 Tokens per Sec: 33119.239738. mask ratio: 0.573267\n",
      "Step: 101 Loss: 1.421009 Tokens per Sec: 30716.081223. mask ratio: 0.512307\n",
      "Step: 151 Loss: 1.405158 Tokens per Sec: 36757.531578. mask ratio: 0.527794\n",
      "Step: 1 Loss: 1.383532 Tokens per Sec: 9246.313668. mask ratio: 0.440476\n",
      "@ 13 1.451043182866777\n",
      "Step: 1 Loss: 1.406346 Tokens per Sec: 13592.345080. mask ratio: 0.723125\n",
      "Step: 51 Loss: 1.369693 Tokens per Sec: 33182.767639. mask ratio: 0.565147\n",
      "Step: 101 Loss: 1.415591 Tokens per Sec: 30838.175122. mask ratio: 0.603039\n",
      "Step: 151 Loss: 1.407026 Tokens per Sec: 32262.792020. mask ratio: 0.511115\n",
      "Step: 1 Loss: 1.387329 Tokens per Sec: 9088.896668. mask ratio: 0.647024\n",
      "@ 14 1.5030331529467411\n",
      "Step: 1 Loss: 1.350199 Tokens per Sec: 29744.053215. mask ratio: 0.462572\n",
      "Step: 51 Loss: 1.318127 Tokens per Sec: 32675.577696. mask ratio: 0.540234\n",
      "Step: 101 Loss: 1.332443 Tokens per Sec: 31326.872270. mask ratio: 0.530243\n",
      "Step: 151 Loss: 1.271398 Tokens per Sec: 33204.077542. mask ratio: 0.534193\n",
      "Step: 1 Loss: 1.286945 Tokens per Sec: 9190.183460. mask ratio: 0.327976\n",
      "@ 15 1.4712358935011283\n",
      "Step: 1 Loss: 1.263941 Tokens per Sec: 15576.412555. mask ratio: 0.319571\n",
      "Step: 51 Loss: 1.316923 Tokens per Sec: 36130.045811. mask ratio: 0.517541\n",
      "Step: 101 Loss: 1.328857 Tokens per Sec: 32407.844120. mask ratio: 0.581363\n",
      "Step: 151 Loss: 1.355429 Tokens per Sec: 32843.970901. mask ratio: 0.546365\n",
      "Step: 1 Loss: 1.234748 Tokens per Sec: 12493.011835. mask ratio: 0.760664\n",
      "@ 16 1.54075864482986\n",
      "Step: 1 Loss: 1.310527 Tokens per Sec: 21120.522593. mask ratio: 0.317827\n",
      "Step: 51 Loss: 1.396553 Tokens per Sec: 33581.719223. mask ratio: 0.549706\n",
      "Step: 101 Loss: 1.302210 Tokens per Sec: 31509.762076. mask ratio: 0.577324\n",
      "Step: 151 Loss: 1.432140 Tokens per Sec: 34919.042057. mask ratio: 0.576097\n",
      "Step: 1 Loss: 1.537149 Tokens per Sec: 9644.262241. mask ratio: 0.854464\n",
      "@ 17 1.4034556109840992\n",
      "Step: 1 Loss: 1.200500 Tokens per Sec: 16855.058277. mask ratio: 0.239306\n",
      "Step: 51 Loss: 1.229463 Tokens per Sec: 31435.919815. mask ratio: 0.522132\n",
      "Step: 101 Loss: 1.255946 Tokens per Sec: 35661.450851. mask ratio: 0.518976\n",
      "Step: 151 Loss: 1.189237 Tokens per Sec: 32975.798765. mask ratio: 0.571907\n",
      "Step: 1 Loss: 1.240790 Tokens per Sec: 14123.682881. mask ratio: 0.280481\n",
      "@ 18 1.4081937164136438\n",
      "Step: 1 Loss: 1.190199 Tokens per Sec: 15044.845075. mask ratio: 0.469214\n",
      "Step: 51 Loss: 1.292579 Tokens per Sec: 31678.976167. mask ratio: 0.562780\n",
      "Step: 101 Loss: 1.413250 Tokens per Sec: 32489.806143. mask ratio: 0.574304\n",
      "Step: 151 Loss: 1.174645 Tokens per Sec: 34498.876663. mask ratio: 0.566309\n",
      "Step: 1 Loss: 1.286853 Tokens per Sec: 12706.694143. mask ratio: 0.391426\n",
      "@ 19 1.3897098888798118\n"
     ]
    }
   ],
   "source": [
    "mr = 'rand'\n",
    "# mr = 0.2\n",
    "for epoch in range(20):\n",
    "    model_par.train()\n",
    "    run_epoch(IT, model_par, loss_compute, mask_ratio=mr, step_call_back=train_log_cbk)\n",
    "    model_par.eval()\n",
    "    loss = run_epoch(teIT, model_par, SimpleLossCompute(generator, criterion, None), mask_ratio=mr)\n",
    "    testwriter.add_scalar('loss', loss, step_counter)\n",
    "    testwriter.flush()\n",
    "    trainwriter.flush()\n",
    "    print('@', epoch, loss)"
   ]
  },
  {
   "cell_type": "code",
   "execution_count": 337,
   "metadata": {},
   "outputs": [],
   "source": [
    "from io import StringIO\n",
    "sio = StringIO()\n",
    "for first in firsts:\n",
    "    print_match_all(first, beamsize=5, file=sio)\n",
    "    print('\\n', file=sio)\n",
    "trainwriter.add_text(str(step_counter), sio.getvalue().replace('\\n','\\n\\n').replace('\\n\\n\\n\\n','\\n\\n'), step_counter)\n",
    "trainwriter.flush()"
   ]
  },
  {
   "cell_type": "raw",
   "metadata": {},
   "source": [
    "mr = 'rand'\n",
    "# mr = 0.2\n",
    "for epoch in range(20):\n",
    "    model_par.train()\n",
    "    run_epoch(IT_r, model_par, loss_compute, mask_ratio=mr, step_call_back=train_log_cbk)\n",
    "    model_par.eval()\n",
    "    loss = run_epoch(teIT, model_par, SimpleLossCompute(generator, criterion, None), mask_ratio=mr)\n",
    "    testwriter.add_scalar('loss', loss, step_counter)\n",
    "    trainwriter.flush()\n",
    "    testwriter.flush()\n",
    "    print('@', epoch, loss)"
   ]
  },
  {
   "cell_type": "raw",
   "metadata": {},
   "source": [
    "from io import StringIO\n",
    "sio = StringIO()\n",
    "for first in firsts:\n",
    "    print_match_all(first, beamsize=5, file=sio)\n",
    "    print('\\n', file=sio)\n",
    "trainwriter.add_text(str(step_counter), sio.getvalue().replace('\\n','\\n\\n').replace('\\n\\n\\n\\n','\\n\\n'), step_counter)\n",
    "trainwriter.flush()"
   ]
  },
  {
   "cell_type": "code",
   "execution_count": 338,
   "metadata": {},
   "outputs": [],
   "source": [
    "opt = torch.optim.Adam(model.parameters(), lr=0.0001, betas=(0.9, 0.98), eps=1e-9)"
   ]
  },
  {
   "cell_type": "code",
   "execution_count": 339,
   "metadata": {
    "collapsed": true,
    "jupyter": {
     "outputs_hidden": true
    }
   },
   "outputs": [
    {
     "name": "stdout",
     "output_type": "stream",
     "text": [
      "Step: 1 Loss: 1.380375 Tokens per Sec: 19632.087375. mask ratio: 0.587318\n",
      "Step: 51 Loss: 1.337274 Tokens per Sec: 31871.944031. mask ratio: 0.562394\n",
      "Step: 101 Loss: 1.264298 Tokens per Sec: 32138.316232. mask ratio: 0.542487\n",
      "Step: 151 Loss: 1.334353 Tokens per Sec: 33221.042192. mask ratio: 0.526440\n",
      "Step: 1 Loss: 1.809319 Tokens per Sec: 9246.010353. mask ratio: 0.733333\n",
      "@ 0 1.3579267184841002\n",
      "Step: 1 Loss: 1.204264 Tokens per Sec: 6528.335306. mask ratio: 0.545571\n",
      "Step: 51 Loss: 1.268560 Tokens per Sec: 35963.018655. mask ratio: 0.535755\n",
      "Step: 101 Loss: 1.149702 Tokens per Sec: 32367.308957. mask ratio: 0.559831\n",
      "Step: 151 Loss: 1.140520 Tokens per Sec: 33690.493131. mask ratio: 0.492375\n",
      "Step: 1 Loss: 1.453105 Tokens per Sec: 8191.655570. mask ratio: 0.773264\n",
      "@ 1 1.378246960909849\n",
      "Step: 1 Loss: 1.304817 Tokens per Sec: 15618.425469. mask ratio: 0.598109\n",
      "Step: 51 Loss: 1.257810 Tokens per Sec: 33323.477318. mask ratio: 0.537961\n",
      "Step: 101 Loss: 1.498854 Tokens per Sec: 31902.294178. mask ratio: 0.527406\n",
      "Step: 151 Loss: 1.392484 Tokens per Sec: 33788.814037. mask ratio: 0.610402\n",
      "Step: 1 Loss: 1.190204 Tokens per Sec: 10620.621995. mask ratio: 0.373226\n",
      "@ 2 1.2884878780701907\n",
      "Step: 1 Loss: 1.098435 Tokens per Sec: 15875.151236. mask ratio: 0.241334\n",
      "Step: 51 Loss: 1.109728 Tokens per Sec: 31480.513232. mask ratio: 0.562254\n",
      "Step: 101 Loss: 1.408647 Tokens per Sec: 35536.718637. mask ratio: 0.635071\n",
      "Step: 151 Loss: 1.382061 Tokens per Sec: 34095.266143. mask ratio: 0.571107\n",
      "Step: 1 Loss: 1.346711 Tokens per Sec: 11743.863171. mask ratio: 0.599955\n",
      "@ 3 1.2956634758319485\n",
      "Step: 1 Loss: 1.245244 Tokens per Sec: 12824.737531. mask ratio: 0.388301\n",
      "Step: 51 Loss: 1.221043 Tokens per Sec: 33237.785389. mask ratio: 0.588383\n",
      "Step: 101 Loss: 1.263912 Tokens per Sec: 31651.978275. mask ratio: 0.566494\n",
      "Step: 151 Loss: 1.139950 Tokens per Sec: 33479.768797. mask ratio: 0.510679\n",
      "Step: 1 Loss: 1.032876 Tokens per Sec: 14222.746945. mask ratio: 0.685329\n",
      "@ 4 1.248757085740618\n",
      "Step: 1 Loss: 1.250250 Tokens per Sec: 25686.643769. mask ratio: 0.587122\n",
      "Step: 51 Loss: 1.320765 Tokens per Sec: 31437.124477. mask ratio: 0.475374\n",
      "Step: 101 Loss: 1.243474 Tokens per Sec: 32465.559374. mask ratio: 0.487250\n",
      "Step: 151 Loss: 1.023130 Tokens per Sec: 32476.741018. mask ratio: 0.519215\n",
      "Step: 1 Loss: 1.138930 Tokens per Sec: 12881.992345. mask ratio: 0.238906\n",
      "@ 5 1.2826945309536468\n",
      "Step: 1 Loss: 1.088011 Tokens per Sec: 14544.692907. mask ratio: 0.301429\n",
      "Step: 51 Loss: 1.287169 Tokens per Sec: 33151.026532. mask ratio: 0.532667\n",
      "Step: 101 Loss: 1.325251 Tokens per Sec: 33067.189172. mask ratio: 0.552806\n",
      "Step: 151 Loss: 1.209534 Tokens per Sec: 33483.309920. mask ratio: 0.521687\n",
      "Step: 1 Loss: 1.026106 Tokens per Sec: 13297.499333. mask ratio: 0.339293\n",
      "@ 6 1.1897494187267168\n",
      "Step: 1 Loss: 1.293960 Tokens per Sec: 19368.958967. mask ratio: 0.665525\n",
      "Step: 51 Loss: 1.161216 Tokens per Sec: 32303.520248. mask ratio: 0.589907\n",
      "Step: 101 Loss: 1.252213 Tokens per Sec: 33155.320156. mask ratio: 0.511344\n",
      "Step: 151 Loss: 1.126097 Tokens per Sec: 33831.361902. mask ratio: 0.450930\n",
      "Step: 1 Loss: 1.035472 Tokens per Sec: 16385.545886. mask ratio: 0.228784\n",
      "@ 7 1.2172161462981788\n",
      "Step: 1 Loss: 1.168285 Tokens per Sec: 19301.283438. mask ratio: 0.756066\n",
      "Step: 51 Loss: 1.414865 Tokens per Sec: 32618.483522. mask ratio: 0.508714\n",
      "Step: 101 Loss: 1.236943 Tokens per Sec: 35114.528622. mask ratio: 0.551545\n",
      "Step: 151 Loss: 1.332831 Tokens per Sec: 31684.499950. mask ratio: 0.631698\n",
      "Step: 1 Loss: 1.166491 Tokens per Sec: 9316.220775. mask ratio: 0.466369\n",
      "@ 8 1.2200555520175778\n",
      "Step: 1 Loss: 1.078236 Tokens per Sec: 17719.012278. mask ratio: 0.705750\n",
      "Step: 51 Loss: 1.166857 Tokens per Sec: 34193.282025. mask ratio: 0.545561\n",
      "Step: 101 Loss: 1.159243 Tokens per Sec: 30825.265824. mask ratio: 0.584175\n",
      "Step: 151 Loss: 1.098248 Tokens per Sec: 33955.723893. mask ratio: 0.549083\n",
      "Step: 1 Loss: 1.007427 Tokens per Sec: 13006.692811. mask ratio: 0.179161\n",
      "@ 9 1.2255470293366344\n",
      "Step: 1 Loss: 0.978947 Tokens per Sec: 22775.797311. mask ratio: 0.299917\n",
      "Step: 51 Loss: 1.343933 Tokens per Sec: 34315.849910. mask ratio: 0.570519\n",
      "Step: 101 Loss: 1.225229 Tokens per Sec: 29363.559189. mask ratio: 0.594176\n",
      "Step: 151 Loss: 1.234325 Tokens per Sec: 34033.735625. mask ratio: 0.531650\n",
      "Step: 1 Loss: 1.283263 Tokens per Sec: 11171.690239. mask ratio: 0.864248\n",
      "@ 10 1.226218406238187\n",
      "Step: 1 Loss: 1.125717 Tokens per Sec: 14165.784063. mask ratio: 0.357286\n",
      "Step: 51 Loss: 1.108942 Tokens per Sec: 32700.275488. mask ratio: 0.526361\n",
      "Step: 101 Loss: 1.365852 Tokens per Sec: 31949.485351. mask ratio: 0.608290\n",
      "Step: 151 Loss: 1.141237 Tokens per Sec: 32698.806485. mask ratio: 0.578498\n",
      "Step: 1 Loss: 1.245988 Tokens per Sec: 16086.586508. mask ratio: 0.806948\n",
      "@ 11 1.1604184462849227\n",
      "Step: 1 Loss: 1.255980 Tokens per Sec: 31132.202787. mask ratio: 0.591823\n",
      "Step: 51 Loss: 1.002656 Tokens per Sec: 31679.997519. mask ratio: 0.581265\n",
      "Step: 101 Loss: 1.232811 Tokens per Sec: 31743.282841. mask ratio: 0.593948\n",
      "Step: 151 Loss: 1.291542 Tokens per Sec: 32634.428383. mask ratio: 0.526153\n",
      "Step: 1 Loss: 1.204482 Tokens per Sec: 14506.753010. mask ratio: 0.551242\n",
      "@ 12 1.1882082002291643\n",
      "Step: 1 Loss: 1.177301 Tokens per Sec: 22019.539012. mask ratio: 0.776070\n",
      "Step: 51 Loss: 1.125330 Tokens per Sec: 37907.115763. mask ratio: 0.488821\n",
      "Step: 101 Loss: 1.214021 Tokens per Sec: 30633.466937. mask ratio: 0.626114\n",
      "Step: 151 Loss: 1.137603 Tokens per Sec: 30644.330477. mask ratio: 0.531592\n",
      "Step: 1 Loss: 1.115144 Tokens per Sec: 11613.994552. mask ratio: 0.553580\n",
      "@ 13 1.1349206740428976\n",
      "Step: 1 Loss: 1.334834 Tokens per Sec: 19325.104388. mask ratio: 0.515854\n",
      "Step: 51 Loss: 0.943925 Tokens per Sec: 34759.528673. mask ratio: 0.499752\n",
      "Step: 101 Loss: 1.050117 Tokens per Sec: 29466.291368. mask ratio: 0.600425\n",
      "Step: 151 Loss: 1.291056 Tokens per Sec: 33991.145642. mask ratio: 0.572701\n",
      "Step: 1 Loss: 0.925146 Tokens per Sec: 9311.979448. mask ratio: 0.336905\n",
      "@ 14 1.150933404330409\n",
      "Step: 1 Loss: 1.129130 Tokens per Sec: 14473.620420. mask ratio: 0.340054\n",
      "Step: 51 Loss: 1.351360 Tokens per Sec: 31872.286559. mask ratio: 0.639295\n",
      "Step: 101 Loss: 1.168512 Tokens per Sec: 35851.071463. mask ratio: 0.573601\n",
      "Step: 151 Loss: 1.004312 Tokens per Sec: 33966.381668. mask ratio: 0.523153\n",
      "Step: 1 Loss: 0.996414 Tokens per Sec: 12286.990585. mask ratio: 0.680009\n",
      "@ 15 1.1908108616458135\n",
      "Step: 1 Loss: 1.304749 Tokens per Sec: 14070.051354. mask ratio: 0.633958\n",
      "Step: 51 Loss: 1.105385 Tokens per Sec: 33861.899216. mask ratio: 0.590778\n",
      "Step: 101 Loss: 0.971309 Tokens per Sec: 31632.753045. mask ratio: 0.517890\n",
      "Step: 151 Loss: 1.346894 Tokens per Sec: 33482.859671. mask ratio: 0.612136\n",
      "Step: 1 Loss: 1.021765 Tokens per Sec: 15937.905634. mask ratio: 0.517479\n",
      "@ 16 1.1735610949948119\n",
      "Step: 1 Loss: 1.358709 Tokens per Sec: 16054.393042. mask ratio: 0.755563\n",
      "Step: 51 Loss: 1.091922 Tokens per Sec: 31376.424534. mask ratio: 0.541443\n",
      "Step: 101 Loss: 1.234564 Tokens per Sec: 33607.093420. mask ratio: 0.523266\n",
      "Step: 151 Loss: 1.267353 Tokens per Sec: 31707.153507. mask ratio: 0.582343\n",
      "Step: 1 Loss: 0.957121 Tokens per Sec: 6889.013912. mask ratio: 0.411075\n",
      "@ 17 1.1717712818303292\n",
      "Step: 1 Loss: 1.039054 Tokens per Sec: 23360.009577. mask ratio: 0.618632\n",
      "Step: 51 Loss: 1.274025 Tokens per Sec: 33654.221368. mask ratio: 0.546472\n",
      "Step: 101 Loss: 1.041302 Tokens per Sec: 29795.626887. mask ratio: 0.501535\n",
      "Step: 151 Loss: 1.006979 Tokens per Sec: 32908.156588. mask ratio: 0.557197\n",
      "Step: 1 Loss: 1.038577 Tokens per Sec: 9278.504996. mask ratio: 0.337202\n",
      "@ 18 1.151958743553692\n",
      "Step: 1 Loss: 1.167965 Tokens per Sec: 24376.923633. mask ratio: 0.507376\n",
      "Step: 51 Loss: 0.974428 Tokens per Sec: 32892.518661. mask ratio: 0.527815\n",
      "Step: 101 Loss: 0.959192 Tokens per Sec: 30670.964795. mask ratio: 0.548243\n",
      "Step: 151 Loss: 1.267905 Tokens per Sec: 32872.553888. mask ratio: 0.489993\n",
      "Step: 1 Loss: 1.262255 Tokens per Sec: 12201.029703. mask ratio: 0.417006\n",
      "@ 19 1.117809404509138\n"
     ]
    }
   ],
   "source": [
    "mr = 'rand'\n",
    "# mr = 0.2\n",
    "for epoch in range(20):\n",
    "    model_par.train()\n",
    "    run_epoch(IT, model_par, loss_compute, mask_ratio=mr, step_call_back=train_log_cbk)\n",
    "    model_par.eval()\n",
    "    loss = run_epoch(teIT, model_par, SimpleLossCompute(generator, criterion, None), mask_ratio=mr)\n",
    "    testwriter.add_scalar('loss', loss, step_counter)\n",
    "    testwriter.flush()\n",
    "    trainwriter.flush()\n",
    "    print('@', epoch, loss)"
   ]
  },
  {
   "cell_type": "code",
   "execution_count": 340,
   "metadata": {},
   "outputs": [],
   "source": [
    "from io import StringIO\n",
    "sio = StringIO()\n",
    "for first in firsts:\n",
    "    print_match_all(first, beamsize=5, file=sio)\n",
    "    print('\\n', file=sio)\n",
    "trainwriter.add_text(str(step_counter), sio.getvalue().replace('\\n','\\n\\n').replace('\\n\\n\\n\\n','\\n\\n'), step_counter)\n",
    "trainwriter.flush()"
   ]
  },
  {
   "cell_type": "code",
   "execution_count": 341,
   "metadata": {
    "collapsed": true,
    "jupyter": {
     "outputs_hidden": true
    }
   },
   "outputs": [
    {
     "name": "stdout",
     "output_type": "stream",
     "text": [
      "Step: 1 Loss: 1.282584 Tokens per Sec: 22140.243308. mask ratio: 0.491714\n",
      "Step: 51 Loss: 1.227419 Tokens per Sec: 30843.124966. mask ratio: 0.596885\n",
      "Step: 101 Loss: 1.339271 Tokens per Sec: 36835.752519. mask ratio: 0.599932\n",
      "Step: 151 Loss: 1.025975 Tokens per Sec: 32734.072416. mask ratio: 0.559325\n",
      "Step: 1 Loss: 1.235315 Tokens per Sec: 9275.237849. mask ratio: 0.616233\n",
      "@ 0 1.1539560507919164\n",
      "Step: 1 Loss: 1.180294 Tokens per Sec: 14047.080600. mask ratio: 0.665393\n",
      "Step: 51 Loss: 1.253999 Tokens per Sec: 32310.493901. mask ratio: 0.568468\n",
      "Step: 101 Loss: 1.206821 Tokens per Sec: 33830.257453. mask ratio: 0.609964\n",
      "Step: 151 Loss: 1.117793 Tokens per Sec: 32905.980958. mask ratio: 0.499624\n",
      "Step: 1 Loss: 0.915152 Tokens per Sec: 8221.574676. mask ratio: 0.346252\n",
      "@ 1 1.1615135005018462\n",
      "Step: 1 Loss: 1.311983 Tokens per Sec: 14079.563433. mask ratio: 0.536333\n",
      "Step: 51 Loss: 1.088267 Tokens per Sec: 31736.411061. mask ratio: 0.574631\n",
      "Step: 101 Loss: 1.055392 Tokens per Sec: 32429.407183. mask ratio: 0.516777\n",
      "Step: 151 Loss: 1.293319 Tokens per Sec: 36003.105943. mask ratio: 0.523019\n",
      "Step: 1 Loss: 1.022559 Tokens per Sec: 6904.194928. mask ratio: 0.580032\n",
      "@ 2 1.1752804148182112\n",
      "Step: 1 Loss: 1.043501 Tokens per Sec: 19682.755135. mask ratio: 0.482211\n",
      "Step: 51 Loss: 1.281764 Tokens per Sec: 32748.700151. mask ratio: 0.561238\n",
      "Step: 101 Loss: 1.170958 Tokens per Sec: 32310.837880. mask ratio: 0.519302\n",
      "Step: 151 Loss: 1.041192 Tokens per Sec: 33231.375458. mask ratio: 0.540417\n",
      "Step: 1 Loss: 1.249006 Tokens per Sec: 9321.507833. mask ratio: 0.867560\n",
      "@ 3 1.155626072352808\n",
      "Step: 1 Loss: 1.188228 Tokens per Sec: 18640.495719. mask ratio: 0.718662\n",
      "Step: 51 Loss: 0.883601 Tokens per Sec: 33658.731798. mask ratio: 0.521249\n",
      "Step: 101 Loss: 1.006344 Tokens per Sec: 31400.318271. mask ratio: 0.618733\n",
      "Step: 151 Loss: 1.012780 Tokens per Sec: 32356.129335. mask ratio: 0.500644\n",
      "Step: 1 Loss: 1.148389 Tokens per Sec: 9510.643103. mask ratio: 0.617857\n",
      "@ 4 1.125694721105439\n",
      "Step: 1 Loss: 1.274383 Tokens per Sec: 17295.492008. mask ratio: 0.884676\n",
      "Step: 51 Loss: 1.259888 Tokens per Sec: 34142.007594. mask ratio: 0.594575\n",
      "Step: 101 Loss: 1.181515 Tokens per Sec: 33429.810490. mask ratio: 0.577081\n",
      "Step: 151 Loss: 1.174535 Tokens per Sec: 32525.386620. mask ratio: 0.486862\n",
      "Step: 1 Loss: 0.834137 Tokens per Sec: 6949.811596. mask ratio: 0.288601\n",
      "@ 5 1.0756034502783216\n",
      "Step: 1 Loss: 1.211820 Tokens per Sec: 15960.075225. mask ratio: 0.823779\n",
      "Step: 51 Loss: 0.943138 Tokens per Sec: 30909.136112. mask ratio: 0.474749\n",
      "Step: 101 Loss: 1.227500 Tokens per Sec: 33172.771071. mask ratio: 0.569972\n",
      "Step: 151 Loss: 1.023136 Tokens per Sec: 32494.750037. mask ratio: 0.562867\n",
      "Step: 1 Loss: 1.250599 Tokens per Sec: 676.295559. mask ratio: 0.811398\n",
      "@ 6 1.1250277227809369\n",
      "Step: 1 Loss: 1.220311 Tokens per Sec: 18553.920562. mask ratio: 0.525098\n",
      "Step: 51 Loss: 0.953853 Tokens per Sec: 31750.806716. mask ratio: 0.556784\n",
      "Step: 101 Loss: 1.123566 Tokens per Sec: 32966.576342. mask ratio: 0.614209\n",
      "Step: 151 Loss: 1.280277 Tokens per Sec: 35454.464772. mask ratio: 0.524732\n",
      "Step: 1 Loss: 0.959361 Tokens per Sec: 9263.654827. mask ratio: 0.669432\n",
      "@ 7 1.1544943221102921\n",
      "Step: 1 Loss: 1.111977 Tokens per Sec: 20840.977406. mask ratio: 0.622546\n",
      "Step: 51 Loss: 1.099875 Tokens per Sec: 32718.542205. mask ratio: 0.442951\n",
      "Step: 101 Loss: 0.944297 Tokens per Sec: 31812.593464. mask ratio: 0.551822\n",
      "Step: 151 Loss: 1.016213 Tokens per Sec: 33651.054834. mask ratio: 0.587613\n",
      "Step: 1 Loss: 1.334013 Tokens per Sec: 8071.666180. mask ratio: 0.904514\n",
      "@ 8 1.1339645945252135\n",
      "Step: 1 Loss: 0.998716 Tokens per Sec: 23066.686343. mask ratio: 0.315750\n",
      "Step: 51 Loss: 1.048343 Tokens per Sec: 32928.279968. mask ratio: 0.568025\n",
      "Step: 101 Loss: 1.222551 Tokens per Sec: 31232.590952. mask ratio: 0.515082\n",
      "Step: 151 Loss: 1.252254 Tokens per Sec: 33041.943576. mask ratio: 0.493138\n",
      "Step: 1 Loss: 1.105487 Tokens per Sec: 10344.905867. mask ratio: 0.793039\n",
      "@ 9 1.1225222907765033\n",
      "Step: 1 Loss: 1.241090 Tokens per Sec: 21257.138058. mask ratio: 0.825846\n",
      "Step: 51 Loss: 1.143248 Tokens per Sec: 36665.128763. mask ratio: 0.499421\n",
      "Step: 101 Loss: 1.079787 Tokens per Sec: 30997.086740. mask ratio: 0.498065\n",
      "Step: 151 Loss: 1.014043 Tokens per Sec: 32717.999220. mask ratio: 0.501889\n",
      "Step: 1 Loss: 1.269234 Tokens per Sec: 10947.828052. mask ratio: 0.646119\n",
      "@ 10 1.1023536841192056\n",
      "Step: 1 Loss: 1.081123 Tokens per Sec: 14391.234620. mask ratio: 0.505554\n",
      "Step: 51 Loss: 1.264625 Tokens per Sec: 33590.027180. mask ratio: 0.613025\n",
      "Step: 101 Loss: 1.056084 Tokens per Sec: 31683.916682. mask ratio: 0.507096\n",
      "Step: 151 Loss: 0.970425 Tokens per Sec: 34670.180331. mask ratio: 0.488327\n",
      "Step: 1 Loss: 1.271985 Tokens per Sec: 9691.923666. mask ratio: 0.726786\n",
      "@ 11 1.0758150439236263\n",
      "Step: 1 Loss: 1.129781 Tokens per Sec: 20308.715864. mask ratio: 0.636238\n",
      "Step: 51 Loss: 1.114002 Tokens per Sec: 31796.786028. mask ratio: 0.602243\n",
      "Step: 101 Loss: 0.985786 Tokens per Sec: 37192.085627. mask ratio: 0.597985\n",
      "Step: 151 Loss: 0.947929 Tokens per Sec: 32354.408835. mask ratio: 0.622847\n",
      "Step: 1 Loss: 1.306411 Tokens per Sec: 16490.968792. mask ratio: 0.735980\n",
      "@ 12 1.1707164731321609\n",
      "Step: 1 Loss: 1.283225 Tokens per Sec: 18050.996286. mask ratio: 0.696213\n",
      "Step: 51 Loss: 0.854681 Tokens per Sec: 33713.823523. mask ratio: 0.574225\n",
      "Step: 101 Loss: 1.212068 Tokens per Sec: 33110.321083. mask ratio: 0.622193\n",
      "Step: 151 Loss: 1.159671 Tokens per Sec: 33254.505776. mask ratio: 0.544193\n",
      "Step: 1 Loss: 1.307614 Tokens per Sec: 14186.515517. mask ratio: 0.745538\n",
      "@ 13 1.1053362334720842\n",
      "Step: 1 Loss: 0.808310 Tokens per Sec: 19000.684343. mask ratio: 0.133674\n",
      "Step: 51 Loss: 0.978300 Tokens per Sec: 30556.556242. mask ratio: 0.552141\n",
      "Step: 101 Loss: 1.210599 Tokens per Sec: 34273.963870. mask ratio: 0.493614\n",
      "Step: 151 Loss: 1.017851 Tokens per Sec: 31822.945756. mask ratio: 0.558887\n",
      "Step: 1 Loss: 1.282424 Tokens per Sec: 9077.445640. mask ratio: 0.791369\n",
      "@ 14 1.161643945011289\n",
      "Step: 1 Loss: 0.922014 Tokens per Sec: 7896.173817. mask ratio: 0.331663\n",
      "Step: 51 Loss: 1.212020 Tokens per Sec: 34892.986226. mask ratio: 0.490724\n",
      "Step: 101 Loss: 1.111951 Tokens per Sec: 32281.999100. mask ratio: 0.638997\n",
      "Step: 151 Loss: 0.936736 Tokens per Sec: 32111.083473. mask ratio: 0.610535\n",
      "Step: 1 Loss: 1.096590 Tokens per Sec: 9034.579012. mask ratio: 0.518894\n",
      "@ 15 1.0973817238869106\n",
      "Step: 1 Loss: 1.034635 Tokens per Sec: 13785.255053. mask ratio: 0.344187\n",
      "Step: 51 Loss: 0.997558 Tokens per Sec: 33203.416988. mask ratio: 0.544536\n",
      "Step: 101 Loss: 1.297906 Tokens per Sec: 31411.388973. mask ratio: 0.560126\n",
      "Step: 151 Loss: 1.225534 Tokens per Sec: 32652.668748. mask ratio: 0.669401\n",
      "Step: 1 Loss: 1.188927 Tokens per Sec: 18961.484834. mask ratio: 0.761215\n",
      "@ 16 1.1086351163742376\n",
      "Step: 1 Loss: 1.072019 Tokens per Sec: 14982.238904. mask ratio: 0.776286\n",
      "Step: 51 Loss: 0.974471 Tokens per Sec: 31381.961615. mask ratio: 0.636384\n",
      "Step: 101 Loss: 1.090385 Tokens per Sec: 35965.020064. mask ratio: 0.612272\n",
      "Step: 151 Loss: 1.095044 Tokens per Sec: 31186.510043. mask ratio: 0.503488\n",
      "Step: 1 Loss: 1.080024 Tokens per Sec: 8918.556512. mask ratio: 0.477578\n",
      "@ 17 1.0569421931316978\n",
      "Step: 1 Loss: 0.996568 Tokens per Sec: 18708.265435. mask ratio: 0.239461\n",
      "Step: 51 Loss: 1.043926 Tokens per Sec: 31994.582033. mask ratio: 0.612042\n",
      "Step: 101 Loss: 1.147792 Tokens per Sec: 31314.394798. mask ratio: 0.476541\n",
      "Step: 151 Loss: 0.912126 Tokens per Sec: 33225.865568. mask ratio: 0.462105\n",
      "Step: 1 Loss: 1.176942 Tokens per Sec: 6822.876443. mask ratio: 0.792643\n",
      "@ 18 1.1182152336542706\n",
      "Step: 1 Loss: 1.174769 Tokens per Sec: 25118.654699. mask ratio: 0.334037\n",
      "Step: 51 Loss: 0.987371 Tokens per Sec: 31677.274699. mask ratio: 0.482417\n",
      "Step: 101 Loss: 1.021093 Tokens per Sec: 31537.147277. mask ratio: 0.572543\n",
      "Step: 151 Loss: 1.020839 Tokens per Sec: 35631.225285. mask ratio: 0.600028\n",
      "Step: 1 Loss: 1.240862 Tokens per Sec: 16050.994147. mask ratio: 0.674276\n",
      "@ 19 1.078277801275189\n"
     ]
    }
   ],
   "source": [
    "mr = 'rand'\n",
    "# mr = 0.2\n",
    "for epoch in range(20):\n",
    "    model_par.train()\n",
    "    run_epoch(IT, model_par, loss_compute, mask_ratio=mr, step_call_back=train_log_cbk)\n",
    "    model_par.eval()\n",
    "    loss = run_epoch(teIT, model_par, SimpleLossCompute(generator, criterion, None), mask_ratio=mr)\n",
    "    testwriter.add_scalar('loss', loss, step_counter)\n",
    "    testwriter.flush()\n",
    "    trainwriter.flush()\n",
    "    print('@', epoch, loss)"
   ]
  },
  {
   "cell_type": "code",
   "execution_count": 342,
   "metadata": {},
   "outputs": [],
   "source": [
    "from io import StringIO\n",
    "sio = StringIO()\n",
    "for first in firsts:\n",
    "    print_match_all(first, beamsize=5, file=sio)\n",
    "    print('\\n', file=sio)\n",
    "trainwriter.add_text(str(step_counter), sio.getvalue().replace('\\n','\\n\\n').replace('\\n\\n\\n\\n','\\n\\n'), step_counter)\n",
    "trainwriter.flush()"
   ]
  },
  {
   "cell_type": "code",
   "execution_count": 210,
   "metadata": {},
   "outputs": [
    {
     "name": "stdout",
     "output_type": "stream",
     "text": [
      "Step: 1 Loss: 4.593791 Tokens per Sec: 16180.098453. mask ratio: 0.813781\n"
     ]
    },
    {
     "data": {
      "text/plain": [
       "3.5329453869081977"
      ]
     },
     "execution_count": 210,
     "metadata": {},
     "output_type": "execute_result"
    }
   ],
   "source": [
    "run_epoch(teIT_r, model_par, SimpleLossCompute(generator, criterion, None), mask_ratio=mr)"
   ]
  },
  {
   "cell_type": "code",
   "execution_count": 221,
   "metadata": {},
   "outputs": [
    {
     "name": "stdout",
     "output_type": "stream",
     "text": [
      "Step: 1 Loss: 0.991790 Tokens per Sec: 12601.218376. mask ratio: 0.330149\n"
     ]
    },
    {
     "data": {
      "text/plain": [
       "1.1360541676955822"
      ]
     },
     "execution_count": 221,
     "metadata": {},
     "output_type": "execute_result"
    }
   ],
   "source": [
    "model_par.eval()\n",
    "run_epoch(teIT, model_par, SimpleLossCompute(generator, criterion, None), mask_ratio=mr)"
   ]
  },
  {
   "cell_type": "code",
   "execution_count": 222,
   "metadata": {},
   "outputs": [
    {
     "name": "stdout",
     "output_type": "stream",
     "text": [
      "Step: 1 Loss: 0.828012 Tokens per Sec: 30504.914129. mask ratio: 0.095151\n",
      "Step: 51 Loss: 1.725160 Tokens per Sec: 45051.411805. mask ratio: 0.521330\n",
      "Step: 101 Loss: 2.006808 Tokens per Sec: 46831.572388. mask ratio: 0.532648\n",
      "Step: 151 Loss: 2.597104 Tokens per Sec: 48085.878949. mask ratio: 0.564236\n"
     ]
    },
    {
     "data": {
      "text/plain": [
       "2.6191998852524843"
      ]
     },
     "execution_count": 222,
     "metadata": {},
     "output_type": "execute_result"
    }
   ],
   "source": [
    "run_epoch(IT, model_par, SimpleLossCompute(generator, criterion, None), mask_ratio=mr)"
   ]
  },
  {
   "cell_type": "code",
   "execution_count": 64,
   "metadata": {},
   "outputs": [
    {
     "name": "stdout",
     "output_type": "stream",
     "text": [
      "Step: 1 Loss: 3.764093 Tokens per Sec: 17074.665737. mask ratio: 0.787457\n",
      "Step: 51 Loss: 3.234247 Tokens per Sec: 47412.154484. mask ratio: 0.513269\n",
      "Step: 101 Loss: 2.584729 Tokens per Sec: 42086.017133. mask ratio: 0.511079\n",
      "Step: 151 Loss: 3.665455 Tokens per Sec: 45131.426026. mask ratio: 0.554868\n"
     ]
    },
    {
     "data": {
      "text/plain": [
       "3.102383682614523"
      ]
     },
     "execution_count": 64,
     "metadata": {},
     "output_type": "execute_result"
    }
   ],
   "source": [
    "run_epoch(IT_r, model_par, SimpleLossCompute(generator, criterion, None), mask_ratio=mr)"
   ]
  },
  {
   "cell_type": "raw",
   "metadata": {},
   "source": [
    "state = {'model':model_par.state_dict(), 'optimizer':opt.state_dict()}\n",
    "torch.save(state, 'checkpoint5.cp')"
   ]
  },
  {
   "cell_type": "raw",
   "metadata": {},
   "source": [
    "torch.save(model.state_dict(), 'model_state_share03.pt')"
   ]
  },
  {
   "cell_type": "code",
   "execution_count": 43,
   "metadata": {},
   "outputs": [],
   "source": [
    "from model import *"
   ]
  },
  {
   "cell_type": "code",
   "execution_count": 293,
   "metadata": {},
   "outputs": [
    {
     "data": {
      "text/plain": [
       "<All keys matched successfully>"
      ]
     },
     "execution_count": 293,
     "metadata": {},
     "output_type": "execute_result"
    }
   ],
   "source": [
    "model.load_state_dict(torch.load('model_state_share03.pt'))"
   ]
  },
  {
   "cell_type": "markdown",
   "metadata": {},
   "source": [
    "# decode search"
   ]
  },
  {
   "cell_type": "code",
   "execution_count": 75,
   "metadata": {},
   "outputs": [],
   "source": [
    "from decode_search import *\n",
    "\n",
    "def match_couplet_onepass(first, second=''):\n",
    "    '一次性输出，模型调用1次，效果不好'\n",
    "    batch = str_to_batch(first, second, VOCAB.stoi, MASK_TOKEN)\n",
    "    model.eval()\n",
    "    out = model(batch.src.to(DEVICE), batch.trg.to(DEVICE), \n",
    "                batch.src_pad_mask.unsqueeze(1).to(DEVICE), batch.trg_pad_mask.unsqueeze(1).to(DEVICE))\n",
    "    _, ind = torch.max(model.generator(out), dim = -1)\n",
    "    return itos(ind.cpu().numpy())\n",
    "\n",
    "def match_couplet_greedy(first, second=''):\n",
    "    batch = str_to_batch(first, second, VOCAB.stoi, MASK_TOKEN)\n",
    "    model.eval()\n",
    "    trg_pred = decode_greedy(model, batch.src.to(DEVICE), batch.trg.to(DEVICE)\n",
    "                             , mask_int=VOCAB.stoi[MASK_TOKEN], pad_int=VOCAB.stoi[PAD_TOKEN])\n",
    "    return itos(trg_pred.cpu().numpy())\n",
    "\n",
    "def match_couplet_beam_1D(first, second='', beamsize=5):\n",
    "    batch = str_to_batch(first, second, VOCAB.stoi, MASK_TOKEN)\n",
    "    model.eval()\n",
    "    results = beam_decode_engine(model, batch.src.to(DEVICE), batch.trg.to(DEVICE), beamsize, decode_1D_step\n",
    "                             , mask_int=VOCAB.stoi[MASK_TOKEN], pad_int=VOCAB.stoi[PAD_TOKEN])\n",
    "    return itos([r.cpu().numpy() for r in results])\n",
    "\n",
    "def match_couplet_beam_margin(first, second='', beamsize=5):\n",
    "    batch = str_to_batch(first, second, VOCAB.stoi, MASK_TOKEN)\n",
    "    model.eval()\n",
    "    results = beam_decode_engine(model, batch.src.to(DEVICE), batch.trg.to(DEVICE), beamsize, decode_margin_step\n",
    "                             , mask_int=VOCAB.stoi[MASK_TOKEN], pad_int=VOCAB.stoi[PAD_TOKEN])\n",
    "    return itos([r.cpu().numpy() for r in results])\n",
    "\n",
    "def match_couplet_beam_2D(first, second='', beamsize=5):\n",
    "    '条件概率版本'\n",
    "    batch = str_to_batch(first, second, VOCAB.stoi, MASK_TOKEN)\n",
    "    model.eval()\n",
    "    results = beam_decode_engine(model, batch.src.to(DEVICE), batch.trg.to(DEVICE), beamsize, decode_2D_step\n",
    "                             , mask_int=VOCAB.stoi[MASK_TOKEN], pad_int=VOCAB.stoi[PAD_TOKEN])\n",
    "    return itos([r.cpu().numpy() for r in results])\n",
    "\n",
    "def match_couplet_beam_2D_2(first, second='', beamsize=5):\n",
    "    '联合分布概率版本'\n",
    "    batch = str_to_batch(first, second, VOCAB.stoi, MASK_TOKEN)\n",
    "    model.eval()\n",
    "    results = decode_beam_2D_2(model, batch.src.to(DEVICE), batch.trg.to(DEVICE), beamsize\n",
    "                             , mask_int=VOCAB.stoi[MASK_TOKEN], pad_int=VOCAB.stoi[PAD_TOKEN])\n",
    "    return itos([r.cpu().numpy() for r in results])"
   ]
  },
  {
   "cell_type": "code",
   "execution_count": 76,
   "metadata": {},
   "outputs": [],
   "source": [
    "def decode_margin_step2(model, src, trg, mask, padmask, beamsize):\n",
    "    '''\n",
    "    各候选位置选最可能的字 + 最可能的位置选候选字，伪二维搜索\n",
    "    padmask为True的是有效字，mask为True的是句中的给定字（非mask）\n",
    "    '''\n",
    "    model.eval()\n",
    "#     print(padmask.unsqueeze(0).unsqueeze(1))\n",
    "    assert src.size(0) == 1\n",
    "    out = model(src, trg, padmask.unsqueeze(0).unsqueeze(1), padmask.unsqueeze(0).unsqueeze(1))\n",
    "    g = model.generator(out)\n",
    "    s, ind = torch.max(g, dim = -1)\n",
    "    ignore = mask | (~padmask)\n",
    "    s[0][ignore] = -1e9\n",
    "    snp = s[0].detach().cpu().numpy() \n",
    "    pos = max_n_1D(np.array(snp), min(len(snp), beamsize//2))\n",
    "    result = []\n",
    "    keep_pos = pos[:(~ignore).sum().item()]\n",
    "    for p in keep_pos:\n",
    "        r = tc.clone(trg)\n",
    "        r[0, p] = ind[0][p].item()\n",
    "        result.append(r)\n",
    "    logps = snp[keep_pos]\n",
    "    max_pos = pos[0]\n",
    "    g = g[0, max_pos].detach().cpu().numpy()\n",
    "    ind = max_n_1D(g, min(len(g), beamsize-len(result)))\n",
    "    \n",
    "    for i in ind:\n",
    "        r = tc.clone(trg)\n",
    "        r[0, max_pos] = i\n",
    "        result.append(r)\n",
    "#     print(itos([r.cpu().numpy() for r in result]))\n",
    "    return result\n",
    "\n",
    "def beam_decode_engine2(model, src, trg, beamsize, decodestep, mask_int, pad_int):\n",
    "    '候选的概率由logp_of_trg确定（联合分布）'\n",
    "    padmask = (src!=pad_int).squeeze()\n",
    "    result = [trg]\n",
    "    while True:\n",
    "        candidates = {}\n",
    "        for trg in result:\n",
    "            mask = (trg!=mask_int).squeeze()\n",
    "            if mask.all(): \n",
    "                return result\n",
    "            cands = decodestep(model, src, trg, mask, padmask, beamsize)\n",
    "            for c in cands:\n",
    "                candidates[tuple(c[0].tolist())] = c #去重\n",
    "        cands = list(candidates.values())\n",
    "        logps = [logp_of_trg(model, src, trgi, (trgi!=mask_int).squeeze(0), padmask) for trgi in cands]\n",
    "        maxinds = max_n_1D(np.array(logps), min(len(logps), beamsize))\n",
    "        result = [cands[i] for i in maxinds]\n",
    "#         print(itos([r.cpu().numpy() for r in result]))\n",
    "    return result\n",
    "\n",
    "def match_couplet_beam_margin2(first, second='', beamsize=5):\n",
    "    batch = str_to_batch(first, second, VOCAB.stoi, MASK_TOKEN)\n",
    "    model.eval()\n",
    "    results = beam_decode_engine2(model, batch.src.to(DEVICE), batch.trg.to(DEVICE), beamsize, decode_margin_step2\n",
    "                             , mask_int=VOCAB.stoi[MASK_TOKEN], pad_int=VOCAB.stoi[PAD_TOKEN])\n",
    "    return itos([r.cpu().numpy() for r in results])"
   ]
  },
  {
   "cell_type": "code",
   "execution_count": 636,
   "metadata": {},
   "outputs": [],
   "source": [
    "out = model(src, trg, padmask.unsqueeze(0).unsqueeze(1), padmask.unsqueeze(0).unsqueeze(1))"
   ]
  },
  {
   "cell_type": "code",
   "execution_count": 738,
   "metadata": {},
   "outputs": [
    {
     "data": {
      "text/plain": [
       "torch.Size([1, 7, 6745])"
      ]
     },
     "execution_count": 738,
     "metadata": {},
     "output_type": "execute_result"
    }
   ],
   "source": [
    "model.generator(out).shape"
   ]
  },
  {
   "cell_type": "code",
   "execution_count": 77,
   "metadata": {},
   "outputs": [],
   "source": [
    "def print_match_all(first, second='', beamsize=5, file=sys.stdout):\n",
    "    print(\"上联:\", first, file=file)\n",
    "    print(\"onepass:\", match_couplet_onepass(first, second), file=file)\n",
    "    print(\"greedy :\", match_couplet_greedy(first, second), file=file)\n",
    "    print(\"beam_1D:\\n\", array(match_couplet_beam_1D(first, second, beamsize)), file=file)\n",
    "    print(\"beam_2D:\\n\", array(match_couplet_beam_2D(first, second, beamsize)), file=file)\n",
    "    print(\"beam_2D_2:\\n\", array(match_couplet_beam_2D_2(first, second, beamsize)), file=file)\n",
    "    print(\"beam_margin:\\n\", array(match_couplet_beam_margin(first, second, beamsize)), file=file)\n",
    "    print(\"beam_margin2:\\n\", array(match_couplet_beam_margin2(first, second, beamsize)), file=file)"
   ]
  },
  {
   "cell_type": "code",
   "execution_count": 140,
   "metadata": {
    "collapsed": true,
    "jupyter": {
     "outputs_hidden": true
    }
   },
   "outputs": [
    {
     "name": "stdout",
     "output_type": "stream",
     "text": [
      "上联: 天与云与山与水，上下一白\n",
      "onepass: ['人同月同竹同风，古下同清']\n",
      "greedy : ['人和诗和酒和诗，天地同春']\n",
      "beam_1D:\n",
      " [['人同竹同竹同梅，上下两清']\n",
      " ['人同竹同竹同梅，上下双清']\n",
      " ['人和诗和画和诗，古今同辉']]\n"
     ]
    },
    {
     "ename": "KeyboardInterrupt",
     "evalue": "",
     "output_type": "error",
     "traceback": [
      "\u001b[0;31m---------------------------------------------------------------------------\u001b[0m",
      "\u001b[0;31mKeyboardInterrupt\u001b[0m                         Traceback (most recent call last)",
      "\u001b[0;32m<ipython-input-140-513c6003519d>\u001b[0m in \u001b[0;36m<module>\u001b[0;34m\u001b[0m\n\u001b[1;32m     12\u001b[0m          ]\n\u001b[1;32m     13\u001b[0m \u001b[0;32mfor\u001b[0m \u001b[0mfirst\u001b[0m \u001b[0;32min\u001b[0m \u001b[0mfirsts\u001b[0m\u001b[0;34m:\u001b[0m\u001b[0;34m\u001b[0m\u001b[0;34m\u001b[0m\u001b[0m\n\u001b[0;32m---> 14\u001b[0;31m     \u001b[0mprint_match_all\u001b[0m\u001b[0;34m(\u001b[0m\u001b[0mfirst\u001b[0m\u001b[0;34m,\u001b[0m \u001b[0mbeamsize\u001b[0m\u001b[0;34m=\u001b[0m\u001b[0;36m5\u001b[0m\u001b[0;34m)\u001b[0m\u001b[0;34m\u001b[0m\u001b[0;34m\u001b[0m\u001b[0m\n\u001b[0m\u001b[1;32m     15\u001b[0m     \u001b[0mprint\u001b[0m\u001b[0;34m(\u001b[0m\u001b[0;34m'\\n'\u001b[0m\u001b[0;34m)\u001b[0m\u001b[0;34m\u001b[0m\u001b[0;34m\u001b[0m\u001b[0m\n",
      "\u001b[0;32m<ipython-input-77-d8108646bf35>\u001b[0m in \u001b[0;36mprint_match_all\u001b[0;34m(first, second, beamsize, file)\u001b[0m\n\u001b[1;32m      4\u001b[0m     \u001b[0mprint\u001b[0m\u001b[0;34m(\u001b[0m\u001b[0;34m\"greedy :\"\u001b[0m\u001b[0;34m,\u001b[0m \u001b[0mmatch_couplet_greedy\u001b[0m\u001b[0;34m(\u001b[0m\u001b[0mfirst\u001b[0m\u001b[0;34m,\u001b[0m \u001b[0msecond\u001b[0m\u001b[0;34m)\u001b[0m\u001b[0;34m,\u001b[0m \u001b[0mfile\u001b[0m\u001b[0;34m=\u001b[0m\u001b[0mfile\u001b[0m\u001b[0;34m)\u001b[0m\u001b[0;34m\u001b[0m\u001b[0;34m\u001b[0m\u001b[0m\n\u001b[1;32m      5\u001b[0m     \u001b[0mprint\u001b[0m\u001b[0;34m(\u001b[0m\u001b[0;34m\"beam_1D:\\n\"\u001b[0m\u001b[0;34m,\u001b[0m \u001b[0marray\u001b[0m\u001b[0;34m(\u001b[0m\u001b[0mmatch_couplet_beam_1D\u001b[0m\u001b[0;34m(\u001b[0m\u001b[0mfirst\u001b[0m\u001b[0;34m,\u001b[0m \u001b[0msecond\u001b[0m\u001b[0;34m,\u001b[0m \u001b[0mbeamsize\u001b[0m\u001b[0;34m)\u001b[0m\u001b[0;34m)\u001b[0m\u001b[0;34m,\u001b[0m \u001b[0mfile\u001b[0m\u001b[0;34m=\u001b[0m\u001b[0mfile\u001b[0m\u001b[0;34m)\u001b[0m\u001b[0;34m\u001b[0m\u001b[0;34m\u001b[0m\u001b[0m\n\u001b[0;32m----> 6\u001b[0;31m     \u001b[0mprint\u001b[0m\u001b[0;34m(\u001b[0m\u001b[0;34m\"beam_2D:\\n\"\u001b[0m\u001b[0;34m,\u001b[0m \u001b[0marray\u001b[0m\u001b[0;34m(\u001b[0m\u001b[0mmatch_couplet_beam_2D\u001b[0m\u001b[0;34m(\u001b[0m\u001b[0mfirst\u001b[0m\u001b[0;34m,\u001b[0m \u001b[0msecond\u001b[0m\u001b[0;34m,\u001b[0m \u001b[0mbeamsize\u001b[0m\u001b[0;34m)\u001b[0m\u001b[0;34m)\u001b[0m\u001b[0;34m,\u001b[0m \u001b[0mfile\u001b[0m\u001b[0;34m=\u001b[0m\u001b[0mfile\u001b[0m\u001b[0;34m)\u001b[0m\u001b[0;34m\u001b[0m\u001b[0;34m\u001b[0m\u001b[0m\n\u001b[0m\u001b[1;32m      7\u001b[0m     \u001b[0mprint\u001b[0m\u001b[0;34m(\u001b[0m\u001b[0;34m\"beam_2D_2:\\n\"\u001b[0m\u001b[0;34m,\u001b[0m \u001b[0marray\u001b[0m\u001b[0;34m(\u001b[0m\u001b[0mmatch_couplet_beam_2D_2\u001b[0m\u001b[0;34m(\u001b[0m\u001b[0mfirst\u001b[0m\u001b[0;34m,\u001b[0m \u001b[0msecond\u001b[0m\u001b[0;34m,\u001b[0m \u001b[0mbeamsize\u001b[0m\u001b[0;34m)\u001b[0m\u001b[0;34m)\u001b[0m\u001b[0;34m,\u001b[0m \u001b[0mfile\u001b[0m\u001b[0;34m=\u001b[0m\u001b[0mfile\u001b[0m\u001b[0;34m)\u001b[0m\u001b[0;34m\u001b[0m\u001b[0;34m\u001b[0m\u001b[0m\n\u001b[1;32m      8\u001b[0m     \u001b[0mprint\u001b[0m\u001b[0;34m(\u001b[0m\u001b[0;34m\"beam_margin:\\n\"\u001b[0m\u001b[0;34m,\u001b[0m \u001b[0marray\u001b[0m\u001b[0;34m(\u001b[0m\u001b[0mmatch_couplet_beam_margin\u001b[0m\u001b[0;34m(\u001b[0m\u001b[0mfirst\u001b[0m\u001b[0;34m,\u001b[0m \u001b[0msecond\u001b[0m\u001b[0;34m,\u001b[0m \u001b[0mbeamsize\u001b[0m\u001b[0;34m)\u001b[0m\u001b[0;34m)\u001b[0m\u001b[0;34m,\u001b[0m \u001b[0mfile\u001b[0m\u001b[0;34m=\u001b[0m\u001b[0mfile\u001b[0m\u001b[0;34m)\u001b[0m\u001b[0;34m\u001b[0m\u001b[0;34m\u001b[0m\u001b[0m\n",
      "\u001b[0;32m<ipython-input-75-702cbeee79dc>\u001b[0m in \u001b[0;36mmatch_couplet_beam_2D\u001b[0;34m(first, second, beamsize)\u001b[0m\n\u001b[1;32m     36\u001b[0m     \u001b[0mmodel\u001b[0m\u001b[0;34m.\u001b[0m\u001b[0meval\u001b[0m\u001b[0;34m(\u001b[0m\u001b[0;34m)\u001b[0m\u001b[0;34m\u001b[0m\u001b[0;34m\u001b[0m\u001b[0m\n\u001b[1;32m     37\u001b[0m     results = beam_decode_engine(model, batch.src.to(DEVICE), batch.trg.to(DEVICE), beamsize, decode_2D_step\n\u001b[0;32m---> 38\u001b[0;31m                              , mask_int=VOCAB.stoi[MASK_TOKEN], pad_int=VOCAB.stoi[PAD_TOKEN])\n\u001b[0m\u001b[1;32m     39\u001b[0m     \u001b[0;32mreturn\u001b[0m \u001b[0mitos\u001b[0m\u001b[0;34m(\u001b[0m\u001b[0;34m[\u001b[0m\u001b[0mr\u001b[0m\u001b[0;34m.\u001b[0m\u001b[0mcpu\u001b[0m\u001b[0;34m(\u001b[0m\u001b[0;34m)\u001b[0m\u001b[0;34m.\u001b[0m\u001b[0mnumpy\u001b[0m\u001b[0;34m(\u001b[0m\u001b[0;34m)\u001b[0m \u001b[0;32mfor\u001b[0m \u001b[0mr\u001b[0m \u001b[0;32min\u001b[0m \u001b[0mresults\u001b[0m\u001b[0;34m]\u001b[0m\u001b[0;34m)\u001b[0m\u001b[0;34m\u001b[0m\u001b[0;34m\u001b[0m\u001b[0m\n\u001b[1;32m     40\u001b[0m \u001b[0;34m\u001b[0m\u001b[0m\n",
      "\u001b[0;32m~/couplets/decode_search.py\u001b[0m in \u001b[0;36mbeam_decode_engine\u001b[0;34m(model, src, trg, beamsize, decodestep, mask_int, pad_int)\u001b[0m\n\u001b[1;32m     95\u001b[0m             \u001b[0;32mif\u001b[0m \u001b[0mmask\u001b[0m\u001b[0;34m.\u001b[0m\u001b[0mall\u001b[0m\u001b[0;34m(\u001b[0m\u001b[0;34m)\u001b[0m\u001b[0;34m:\u001b[0m\u001b[0;34m\u001b[0m\u001b[0;34m\u001b[0m\u001b[0m\n\u001b[1;32m     96\u001b[0m                 \u001b[0;32mreturn\u001b[0m \u001b[0mresult\u001b[0m\u001b[0;34m\u001b[0m\u001b[0;34m\u001b[0m\u001b[0m\n\u001b[0;32m---> 97\u001b[0;31m             \u001b[0mcands\u001b[0m\u001b[0;34m,\u001b[0m \u001b[0mlogpi\u001b[0m \u001b[0;34m=\u001b[0m \u001b[0mdecodestep\u001b[0m\u001b[0;34m(\u001b[0m\u001b[0mmodel\u001b[0m\u001b[0;34m,\u001b[0m \u001b[0msrc\u001b[0m\u001b[0;34m,\u001b[0m \u001b[0mtrg\u001b[0m\u001b[0;34m,\u001b[0m \u001b[0mmask\u001b[0m\u001b[0;34m,\u001b[0m \u001b[0mpadmask\u001b[0m\u001b[0;34m,\u001b[0m \u001b[0mbeamsize\u001b[0m\u001b[0;34m)\u001b[0m\u001b[0;34m\u001b[0m\u001b[0;34m\u001b[0m\u001b[0m\n\u001b[0m\u001b[1;32m     98\u001b[0m             \u001b[0;32mfor\u001b[0m \u001b[0mc\u001b[0m\u001b[0;34m,\u001b[0m\u001b[0mli\u001b[0m \u001b[0;32min\u001b[0m \u001b[0mzip\u001b[0m\u001b[0;34m(\u001b[0m\u001b[0mcands\u001b[0m\u001b[0;34m,\u001b[0m \u001b[0mlogpi\u001b[0m\u001b[0;34m)\u001b[0m\u001b[0;34m:\u001b[0m\u001b[0;34m\u001b[0m\u001b[0;34m\u001b[0m\u001b[0m\n\u001b[1;32m     99\u001b[0m                 \u001b[0mcandidates\u001b[0m\u001b[0;34m[\u001b[0m\u001b[0mtuple\u001b[0m\u001b[0;34m(\u001b[0m\u001b[0mc\u001b[0m\u001b[0;34m[\u001b[0m\u001b[0;36m0\u001b[0m\u001b[0;34m]\u001b[0m\u001b[0;34m.\u001b[0m\u001b[0mtolist\u001b[0m\u001b[0;34m(\u001b[0m\u001b[0;34m)\u001b[0m\u001b[0;34m)\u001b[0m\u001b[0;34m]\u001b[0m \u001b[0;34m=\u001b[0m \u001b[0mc\u001b[0m\u001b[0;34m,\u001b[0m \u001b[0mrlp\u001b[0m\u001b[0;34m+\u001b[0m\u001b[0mli\u001b[0m \u001b[0;31m#去重\u001b[0m\u001b[0;34m\u001b[0m\u001b[0;34m\u001b[0m\u001b[0m\n",
      "\u001b[0;32m~/couplets/decode_search.py\u001b[0m in \u001b[0;36mdecode_2D_step\u001b[0;34m(model, src, trg, mask, padmask, beamsize)\u001b[0m\n\u001b[1;32m    131\u001b[0m     '''\n\u001b[1;32m    132\u001b[0m     \u001b[0mmodel\u001b[0m\u001b[0;34m.\u001b[0m\u001b[0meval\u001b[0m\u001b[0;34m(\u001b[0m\u001b[0;34m)\u001b[0m\u001b[0;34m\u001b[0m\u001b[0;34m\u001b[0m\u001b[0m\n\u001b[0;32m--> 133\u001b[0;31m     \u001b[0mout\u001b[0m \u001b[0;34m=\u001b[0m \u001b[0mmodel\u001b[0m\u001b[0;34m(\u001b[0m\u001b[0msrc\u001b[0m\u001b[0;34m,\u001b[0m \u001b[0mtrg\u001b[0m\u001b[0;34m,\u001b[0m \u001b[0mpadmask\u001b[0m\u001b[0;34m.\u001b[0m\u001b[0munsqueeze\u001b[0m\u001b[0;34m(\u001b[0m\u001b[0;36m0\u001b[0m\u001b[0;34m)\u001b[0m\u001b[0;34m.\u001b[0m\u001b[0munsqueeze\u001b[0m\u001b[0;34m(\u001b[0m\u001b[0;36m1\u001b[0m\u001b[0;34m)\u001b[0m\u001b[0;34m,\u001b[0m \u001b[0mpadmask\u001b[0m\u001b[0;34m.\u001b[0m\u001b[0munsqueeze\u001b[0m\u001b[0;34m(\u001b[0m\u001b[0;36m0\u001b[0m\u001b[0;34m)\u001b[0m\u001b[0;34m.\u001b[0m\u001b[0munsqueeze\u001b[0m\u001b[0;34m(\u001b[0m\u001b[0;36m1\u001b[0m\u001b[0;34m)\u001b[0m\u001b[0;34m)\u001b[0m\u001b[0;34m\u001b[0m\u001b[0;34m\u001b[0m\u001b[0m\n\u001b[0m\u001b[1;32m    134\u001b[0m     \u001b[0;32massert\u001b[0m \u001b[0mout\u001b[0m\u001b[0;34m.\u001b[0m\u001b[0msize\u001b[0m\u001b[0;34m(\u001b[0m\u001b[0;36m0\u001b[0m\u001b[0;34m)\u001b[0m \u001b[0;34m==\u001b[0m \u001b[0;36m1\u001b[0m\u001b[0;34m\u001b[0m\u001b[0;34m\u001b[0m\u001b[0m\n\u001b[1;32m    135\u001b[0m     \u001b[0mg\u001b[0m \u001b[0;34m=\u001b[0m \u001b[0mmodel\u001b[0m\u001b[0;34m.\u001b[0m\u001b[0mgenerator\u001b[0m\u001b[0;34m(\u001b[0m\u001b[0mout\u001b[0m\u001b[0;34m)\u001b[0m\u001b[0;34m.\u001b[0m\u001b[0msqueeze\u001b[0m\u001b[0;34m(\u001b[0m\u001b[0;36m0\u001b[0m\u001b[0;34m)\u001b[0m\u001b[0;34m\u001b[0m\u001b[0;34m\u001b[0m\u001b[0m\n",
      "\u001b[0;32m~/.conda/envs/gyz37/lib/python3.7/site-packages/torch/nn/modules/module.py\u001b[0m in \u001b[0;36m__call__\u001b[0;34m(self, *input, **kwargs)\u001b[0m\n\u001b[1;32m    548\u001b[0m             \u001b[0mresult\u001b[0m \u001b[0;34m=\u001b[0m \u001b[0mself\u001b[0m\u001b[0;34m.\u001b[0m\u001b[0m_slow_forward\u001b[0m\u001b[0;34m(\u001b[0m\u001b[0;34m*\u001b[0m\u001b[0minput\u001b[0m\u001b[0;34m,\u001b[0m \u001b[0;34m**\u001b[0m\u001b[0mkwargs\u001b[0m\u001b[0;34m)\u001b[0m\u001b[0;34m\u001b[0m\u001b[0;34m\u001b[0m\u001b[0m\n\u001b[1;32m    549\u001b[0m         \u001b[0;32melse\u001b[0m\u001b[0;34m:\u001b[0m\u001b[0;34m\u001b[0m\u001b[0;34m\u001b[0m\u001b[0m\n\u001b[0;32m--> 550\u001b[0;31m             \u001b[0mresult\u001b[0m \u001b[0;34m=\u001b[0m \u001b[0mself\u001b[0m\u001b[0;34m.\u001b[0m\u001b[0mforward\u001b[0m\u001b[0;34m(\u001b[0m\u001b[0;34m*\u001b[0m\u001b[0minput\u001b[0m\u001b[0;34m,\u001b[0m \u001b[0;34m**\u001b[0m\u001b[0mkwargs\u001b[0m\u001b[0;34m)\u001b[0m\u001b[0;34m\u001b[0m\u001b[0;34m\u001b[0m\u001b[0m\n\u001b[0m\u001b[1;32m    551\u001b[0m         \u001b[0;32mfor\u001b[0m \u001b[0mhook\u001b[0m \u001b[0;32min\u001b[0m \u001b[0mself\u001b[0m\u001b[0;34m.\u001b[0m\u001b[0m_forward_hooks\u001b[0m\u001b[0;34m.\u001b[0m\u001b[0mvalues\u001b[0m\u001b[0;34m(\u001b[0m\u001b[0;34m)\u001b[0m\u001b[0;34m:\u001b[0m\u001b[0;34m\u001b[0m\u001b[0;34m\u001b[0m\u001b[0m\n\u001b[1;32m    552\u001b[0m             \u001b[0mhook_result\u001b[0m \u001b[0;34m=\u001b[0m \u001b[0mhook\u001b[0m\u001b[0;34m(\u001b[0m\u001b[0mself\u001b[0m\u001b[0;34m,\u001b[0m \u001b[0minput\u001b[0m\u001b[0;34m,\u001b[0m \u001b[0mresult\u001b[0m\u001b[0;34m)\u001b[0m\u001b[0;34m\u001b[0m\u001b[0;34m\u001b[0m\u001b[0m\n",
      "\u001b[0;32m~/couplets/model.py\u001b[0m in \u001b[0;36mforward\u001b[0;34m(self, src, tgt, src_mask, tgt_mask)\u001b[0m\n\u001b[1;32m     22\u001b[0m         \u001b[0;34m\"Take in and process masked src and target sequences.\"\u001b[0m\u001b[0;34m\u001b[0m\u001b[0;34m\u001b[0m\u001b[0m\n\u001b[1;32m     23\u001b[0m         return self.decode(self.encode(src, src_mask), src_mask,\n\u001b[0;32m---> 24\u001b[0;31m                             tgt, tgt_mask)\n\u001b[0m\u001b[1;32m     25\u001b[0m \u001b[0;34m\u001b[0m\u001b[0m\n\u001b[1;32m     26\u001b[0m     \u001b[0;32mdef\u001b[0m \u001b[0mencode\u001b[0m\u001b[0;34m(\u001b[0m\u001b[0mself\u001b[0m\u001b[0;34m,\u001b[0m \u001b[0msrc\u001b[0m\u001b[0;34m,\u001b[0m \u001b[0msrc_mask\u001b[0m\u001b[0;34m)\u001b[0m\u001b[0;34m:\u001b[0m\u001b[0;34m\u001b[0m\u001b[0;34m\u001b[0m\u001b[0m\n",
      "\u001b[0;32m~/couplets/model.py\u001b[0m in \u001b[0;36mdecode\u001b[0;34m(self, memory, src_mask, tgt, tgt_mask)\u001b[0m\n\u001b[1;32m     28\u001b[0m \u001b[0;34m\u001b[0m\u001b[0m\n\u001b[1;32m     29\u001b[0m     \u001b[0;32mdef\u001b[0m \u001b[0mdecode\u001b[0m\u001b[0;34m(\u001b[0m\u001b[0mself\u001b[0m\u001b[0;34m,\u001b[0m \u001b[0mmemory\u001b[0m\u001b[0;34m,\u001b[0m \u001b[0msrc_mask\u001b[0m\u001b[0;34m,\u001b[0m \u001b[0mtgt\u001b[0m\u001b[0;34m,\u001b[0m \u001b[0mtgt_mask\u001b[0m\u001b[0;34m)\u001b[0m\u001b[0;34m:\u001b[0m\u001b[0;34m\u001b[0m\u001b[0;34m\u001b[0m\u001b[0m\n\u001b[0;32m---> 30\u001b[0;31m         \u001b[0;32mreturn\u001b[0m \u001b[0mself\u001b[0m\u001b[0;34m.\u001b[0m\u001b[0mdecoder\u001b[0m\u001b[0;34m(\u001b[0m\u001b[0mself\u001b[0m\u001b[0;34m.\u001b[0m\u001b[0mtgt_embed\u001b[0m\u001b[0;34m(\u001b[0m\u001b[0mtgt\u001b[0m\u001b[0;34m)\u001b[0m\u001b[0;34m,\u001b[0m \u001b[0mmemory\u001b[0m\u001b[0;34m,\u001b[0m \u001b[0msrc_mask\u001b[0m\u001b[0;34m,\u001b[0m \u001b[0mtgt_mask\u001b[0m\u001b[0;34m)\u001b[0m\u001b[0;34m\u001b[0m\u001b[0;34m\u001b[0m\u001b[0m\n\u001b[0m\u001b[1;32m     31\u001b[0m \u001b[0;34m\u001b[0m\u001b[0m\n\u001b[1;32m     32\u001b[0m \u001b[0;32mclass\u001b[0m \u001b[0mGenerator\u001b[0m\u001b[0;34m(\u001b[0m\u001b[0mnn\u001b[0m\u001b[0;34m.\u001b[0m\u001b[0mModule\u001b[0m\u001b[0;34m)\u001b[0m\u001b[0;34m:\u001b[0m\u001b[0;34m\u001b[0m\u001b[0;34m\u001b[0m\u001b[0m\n",
      "\u001b[0;32m~/.conda/envs/gyz37/lib/python3.7/site-packages/torch/nn/modules/module.py\u001b[0m in \u001b[0;36m__call__\u001b[0;34m(self, *input, **kwargs)\u001b[0m\n\u001b[1;32m    548\u001b[0m             \u001b[0mresult\u001b[0m \u001b[0;34m=\u001b[0m \u001b[0mself\u001b[0m\u001b[0;34m.\u001b[0m\u001b[0m_slow_forward\u001b[0m\u001b[0;34m(\u001b[0m\u001b[0;34m*\u001b[0m\u001b[0minput\u001b[0m\u001b[0;34m,\u001b[0m \u001b[0;34m**\u001b[0m\u001b[0mkwargs\u001b[0m\u001b[0;34m)\u001b[0m\u001b[0;34m\u001b[0m\u001b[0;34m\u001b[0m\u001b[0m\n\u001b[1;32m    549\u001b[0m         \u001b[0;32melse\u001b[0m\u001b[0;34m:\u001b[0m\u001b[0;34m\u001b[0m\u001b[0;34m\u001b[0m\u001b[0m\n\u001b[0;32m--> 550\u001b[0;31m             \u001b[0mresult\u001b[0m \u001b[0;34m=\u001b[0m \u001b[0mself\u001b[0m\u001b[0;34m.\u001b[0m\u001b[0mforward\u001b[0m\u001b[0;34m(\u001b[0m\u001b[0;34m*\u001b[0m\u001b[0minput\u001b[0m\u001b[0;34m,\u001b[0m \u001b[0;34m**\u001b[0m\u001b[0mkwargs\u001b[0m\u001b[0;34m)\u001b[0m\u001b[0;34m\u001b[0m\u001b[0;34m\u001b[0m\u001b[0m\n\u001b[0m\u001b[1;32m    551\u001b[0m         \u001b[0;32mfor\u001b[0m \u001b[0mhook\u001b[0m \u001b[0;32min\u001b[0m \u001b[0mself\u001b[0m\u001b[0;34m.\u001b[0m\u001b[0m_forward_hooks\u001b[0m\u001b[0;34m.\u001b[0m\u001b[0mvalues\u001b[0m\u001b[0;34m(\u001b[0m\u001b[0;34m)\u001b[0m\u001b[0;34m:\u001b[0m\u001b[0;34m\u001b[0m\u001b[0;34m\u001b[0m\u001b[0m\n\u001b[1;32m    552\u001b[0m             \u001b[0mhook_result\u001b[0m \u001b[0;34m=\u001b[0m \u001b[0mhook\u001b[0m\u001b[0;34m(\u001b[0m\u001b[0mself\u001b[0m\u001b[0;34m,\u001b[0m \u001b[0minput\u001b[0m\u001b[0;34m,\u001b[0m \u001b[0mresult\u001b[0m\u001b[0;34m)\u001b[0m\u001b[0;34m\u001b[0m\u001b[0;34m\u001b[0m\u001b[0m\n",
      "\u001b[0;32m~/couplets/model.py\u001b[0m in \u001b[0;36mforward\u001b[0;34m(self, x, memory, src_mask, tgt_mask)\u001b[0m\n\u001b[1;32m    109\u001b[0m         \u001b[0mx0\u001b[0m \u001b[0;34m=\u001b[0m \u001b[0mx\u001b[0m\u001b[0;34m\u001b[0m\u001b[0;34m\u001b[0m\u001b[0m\n\u001b[1;32m    110\u001b[0m         \u001b[0;32mfor\u001b[0m \u001b[0mlayer\u001b[0m \u001b[0;32min\u001b[0m \u001b[0mself\u001b[0m\u001b[0;34m.\u001b[0m\u001b[0mlayers\u001b[0m\u001b[0;34m[\u001b[0m\u001b[0;34m:\u001b[0m\u001b[0;34m-\u001b[0m\u001b[0;36m1\u001b[0m\u001b[0;34m]\u001b[0m\u001b[0;34m:\u001b[0m\u001b[0;34m\u001b[0m\u001b[0;34m\u001b[0m\u001b[0m\n\u001b[0;32m--> 111\u001b[0;31m             \u001b[0mx\u001b[0m \u001b[0;34m=\u001b[0m \u001b[0mlayer\u001b[0m\u001b[0;34m(\u001b[0m\u001b[0mx\u001b[0m\u001b[0;34m,\u001b[0m \u001b[0mmemory\u001b[0m\u001b[0;34m,\u001b[0m \u001b[0msrc_mask\u001b[0m\u001b[0;34m,\u001b[0m \u001b[0mtgt_mask\u001b[0m\u001b[0;34m)\u001b[0m\u001b[0;34m\u001b[0m\u001b[0;34m\u001b[0m\u001b[0m\n\u001b[0m\u001b[1;32m    112\u001b[0m         \u001b[0mx\u001b[0m \u001b[0;34m=\u001b[0m \u001b[0mself\u001b[0m\u001b[0;34m.\u001b[0m\u001b[0mlayers\u001b[0m\u001b[0;34m[\u001b[0m\u001b[0;34m-\u001b[0m\u001b[0;36m1\u001b[0m\u001b[0;34m]\u001b[0m\u001b[0;34m(\u001b[0m\u001b[0mx\u001b[0m\u001b[0;34m+\u001b[0m\u001b[0mself\u001b[0m\u001b[0;34m.\u001b[0m\u001b[0mdropout\u001b[0m\u001b[0;34m(\u001b[0m\u001b[0mself\u001b[0m\u001b[0;34m.\u001b[0m\u001b[0mlinear\u001b[0m\u001b[0;34m(\u001b[0m\u001b[0mx0\u001b[0m\u001b[0;34m)\u001b[0m\u001b[0;34m)\u001b[0m\u001b[0;34m,\u001b[0m \u001b[0mmemory\u001b[0m\u001b[0;34m,\u001b[0m \u001b[0msrc_mask\u001b[0m\u001b[0;34m,\u001b[0m \u001b[0mtgt_mask\u001b[0m\u001b[0;34m)\u001b[0m\u001b[0;34m\u001b[0m\u001b[0;34m\u001b[0m\u001b[0m\n\u001b[1;32m    113\u001b[0m         \u001b[0;32mreturn\u001b[0m \u001b[0mself\u001b[0m\u001b[0;34m.\u001b[0m\u001b[0mnorm\u001b[0m\u001b[0;34m(\u001b[0m\u001b[0mx\u001b[0m\u001b[0;34m)\u001b[0m\u001b[0;34m\u001b[0m\u001b[0;34m\u001b[0m\u001b[0m\n",
      "\u001b[0;32m~/.conda/envs/gyz37/lib/python3.7/site-packages/torch/nn/modules/module.py\u001b[0m in \u001b[0;36m__call__\u001b[0;34m(self, *input, **kwargs)\u001b[0m\n\u001b[1;32m    548\u001b[0m             \u001b[0mresult\u001b[0m \u001b[0;34m=\u001b[0m \u001b[0mself\u001b[0m\u001b[0;34m.\u001b[0m\u001b[0m_slow_forward\u001b[0m\u001b[0;34m(\u001b[0m\u001b[0;34m*\u001b[0m\u001b[0minput\u001b[0m\u001b[0;34m,\u001b[0m \u001b[0;34m**\u001b[0m\u001b[0mkwargs\u001b[0m\u001b[0;34m)\u001b[0m\u001b[0;34m\u001b[0m\u001b[0;34m\u001b[0m\u001b[0m\n\u001b[1;32m    549\u001b[0m         \u001b[0;32melse\u001b[0m\u001b[0;34m:\u001b[0m\u001b[0;34m\u001b[0m\u001b[0;34m\u001b[0m\u001b[0m\n\u001b[0;32m--> 550\u001b[0;31m             \u001b[0mresult\u001b[0m \u001b[0;34m=\u001b[0m \u001b[0mself\u001b[0m\u001b[0;34m.\u001b[0m\u001b[0mforward\u001b[0m\u001b[0;34m(\u001b[0m\u001b[0;34m*\u001b[0m\u001b[0minput\u001b[0m\u001b[0;34m,\u001b[0m \u001b[0;34m**\u001b[0m\u001b[0mkwargs\u001b[0m\u001b[0;34m)\u001b[0m\u001b[0;34m\u001b[0m\u001b[0;34m\u001b[0m\u001b[0m\n\u001b[0m\u001b[1;32m    551\u001b[0m         \u001b[0;32mfor\u001b[0m \u001b[0mhook\u001b[0m \u001b[0;32min\u001b[0m \u001b[0mself\u001b[0m\u001b[0;34m.\u001b[0m\u001b[0m_forward_hooks\u001b[0m\u001b[0;34m.\u001b[0m\u001b[0mvalues\u001b[0m\u001b[0;34m(\u001b[0m\u001b[0;34m)\u001b[0m\u001b[0;34m:\u001b[0m\u001b[0;34m\u001b[0m\u001b[0;34m\u001b[0m\u001b[0m\n\u001b[1;32m    552\u001b[0m             \u001b[0mhook_result\u001b[0m \u001b[0;34m=\u001b[0m \u001b[0mhook\u001b[0m\u001b[0;34m(\u001b[0m\u001b[0mself\u001b[0m\u001b[0;34m,\u001b[0m \u001b[0minput\u001b[0m\u001b[0;34m,\u001b[0m \u001b[0mresult\u001b[0m\u001b[0;34m)\u001b[0m\u001b[0;34m\u001b[0m\u001b[0;34m\u001b[0m\u001b[0m\n",
      "\u001b[0;32m~/couplets/model.py\u001b[0m in \u001b[0;36mforward\u001b[0;34m(self, x, memory, src_mask, tgt_mask)\u001b[0m\n\u001b[1;32m    129\u001b[0m         \u001b[0mm\u001b[0m \u001b[0;34m=\u001b[0m \u001b[0mmemory\u001b[0m\u001b[0;34m\u001b[0m\u001b[0;34m\u001b[0m\u001b[0m\n\u001b[1;32m    130\u001b[0m         \u001b[0mx\u001b[0m \u001b[0;34m=\u001b[0m \u001b[0mself\u001b[0m\u001b[0;34m.\u001b[0m\u001b[0msublayer\u001b[0m\u001b[0;34m[\u001b[0m\u001b[0;36m0\u001b[0m\u001b[0;34m]\u001b[0m\u001b[0;34m(\u001b[0m\u001b[0mx\u001b[0m\u001b[0;34m,\u001b[0m \u001b[0;32mlambda\u001b[0m \u001b[0mx\u001b[0m\u001b[0;34m:\u001b[0m \u001b[0mself\u001b[0m\u001b[0;34m.\u001b[0m\u001b[0mself_attn\u001b[0m\u001b[0;34m(\u001b[0m\u001b[0mx\u001b[0m\u001b[0;34m,\u001b[0m \u001b[0mx\u001b[0m\u001b[0;34m,\u001b[0m \u001b[0mx\u001b[0m\u001b[0;34m,\u001b[0m \u001b[0mtgt_mask\u001b[0m\u001b[0;34m)\u001b[0m\u001b[0;34m)\u001b[0m\u001b[0;34m\u001b[0m\u001b[0;34m\u001b[0m\u001b[0m\n\u001b[0;32m--> 131\u001b[0;31m         \u001b[0mx\u001b[0m \u001b[0;34m=\u001b[0m \u001b[0mself\u001b[0m\u001b[0;34m.\u001b[0m\u001b[0msublayer\u001b[0m\u001b[0;34m[\u001b[0m\u001b[0;36m1\u001b[0m\u001b[0;34m]\u001b[0m\u001b[0;34m(\u001b[0m\u001b[0mx\u001b[0m\u001b[0;34m,\u001b[0m \u001b[0;32mlambda\u001b[0m \u001b[0mx\u001b[0m\u001b[0;34m:\u001b[0m \u001b[0mself\u001b[0m\u001b[0;34m.\u001b[0m\u001b[0msrc_attn\u001b[0m\u001b[0;34m(\u001b[0m\u001b[0mm\u001b[0m\u001b[0;34m,\u001b[0m \u001b[0mm\u001b[0m\u001b[0;34m,\u001b[0m \u001b[0mx\u001b[0m\u001b[0;34m,\u001b[0m \u001b[0msrc_mask\u001b[0m\u001b[0;34m)\u001b[0m\u001b[0;34m)\u001b[0m\u001b[0;34m\u001b[0m\u001b[0;34m\u001b[0m\u001b[0m\n\u001b[0m\u001b[1;32m    132\u001b[0m         \u001b[0mx\u001b[0m \u001b[0;34m=\u001b[0m \u001b[0mx\u001b[0m \u001b[0;34m+\u001b[0m \u001b[0mself\u001b[0m\u001b[0;34m.\u001b[0m\u001b[0mdropout\u001b[0m\u001b[0;34m(\u001b[0m\u001b[0mself\u001b[0m\u001b[0;34m.\u001b[0m\u001b[0mlinear\u001b[0m\u001b[0;34m(\u001b[0m\u001b[0mm\u001b[0m\u001b[0;34m)\u001b[0m\u001b[0;34m)\u001b[0m\u001b[0;34m\u001b[0m\u001b[0;34m\u001b[0m\u001b[0m\n\u001b[1;32m    133\u001b[0m         \u001b[0;32mreturn\u001b[0m \u001b[0mself\u001b[0m\u001b[0;34m.\u001b[0m\u001b[0msublayer\u001b[0m\u001b[0;34m[\u001b[0m\u001b[0;36m2\u001b[0m\u001b[0;34m]\u001b[0m\u001b[0;34m(\u001b[0m\u001b[0mx\u001b[0m\u001b[0;34m,\u001b[0m \u001b[0mself\u001b[0m\u001b[0;34m.\u001b[0m\u001b[0mfeed_forward\u001b[0m\u001b[0;34m)\u001b[0m\u001b[0;34m\u001b[0m\u001b[0;34m\u001b[0m\u001b[0m\n",
      "\u001b[0;32m~/.conda/envs/gyz37/lib/python3.7/site-packages/torch/nn/modules/module.py\u001b[0m in \u001b[0;36m__call__\u001b[0;34m(self, *input, **kwargs)\u001b[0m\n\u001b[1;32m    548\u001b[0m             \u001b[0mresult\u001b[0m \u001b[0;34m=\u001b[0m \u001b[0mself\u001b[0m\u001b[0;34m.\u001b[0m\u001b[0m_slow_forward\u001b[0m\u001b[0;34m(\u001b[0m\u001b[0;34m*\u001b[0m\u001b[0minput\u001b[0m\u001b[0;34m,\u001b[0m \u001b[0;34m**\u001b[0m\u001b[0mkwargs\u001b[0m\u001b[0;34m)\u001b[0m\u001b[0;34m\u001b[0m\u001b[0;34m\u001b[0m\u001b[0m\n\u001b[1;32m    549\u001b[0m         \u001b[0;32melse\u001b[0m\u001b[0;34m:\u001b[0m\u001b[0;34m\u001b[0m\u001b[0;34m\u001b[0m\u001b[0m\n\u001b[0;32m--> 550\u001b[0;31m             \u001b[0mresult\u001b[0m \u001b[0;34m=\u001b[0m \u001b[0mself\u001b[0m\u001b[0;34m.\u001b[0m\u001b[0mforward\u001b[0m\u001b[0;34m(\u001b[0m\u001b[0;34m*\u001b[0m\u001b[0minput\u001b[0m\u001b[0;34m,\u001b[0m \u001b[0;34m**\u001b[0m\u001b[0mkwargs\u001b[0m\u001b[0;34m)\u001b[0m\u001b[0;34m\u001b[0m\u001b[0;34m\u001b[0m\u001b[0m\n\u001b[0m\u001b[1;32m    551\u001b[0m         \u001b[0;32mfor\u001b[0m \u001b[0mhook\u001b[0m \u001b[0;32min\u001b[0m \u001b[0mself\u001b[0m\u001b[0;34m.\u001b[0m\u001b[0m_forward_hooks\u001b[0m\u001b[0;34m.\u001b[0m\u001b[0mvalues\u001b[0m\u001b[0;34m(\u001b[0m\u001b[0;34m)\u001b[0m\u001b[0;34m:\u001b[0m\u001b[0;34m\u001b[0m\u001b[0;34m\u001b[0m\u001b[0m\n\u001b[1;32m    552\u001b[0m             \u001b[0mhook_result\u001b[0m \u001b[0;34m=\u001b[0m \u001b[0mhook\u001b[0m\u001b[0;34m(\u001b[0m\u001b[0mself\u001b[0m\u001b[0;34m,\u001b[0m \u001b[0minput\u001b[0m\u001b[0;34m,\u001b[0m \u001b[0mresult\u001b[0m\u001b[0;34m)\u001b[0m\u001b[0;34m\u001b[0m\u001b[0;34m\u001b[0m\u001b[0m\n",
      "\u001b[0;32m~/couplets/model.py\u001b[0m in \u001b[0;36mforward\u001b[0;34m(self, x, sublayer)\u001b[0m\n\u001b[1;32m     81\u001b[0m     \u001b[0;32mdef\u001b[0m \u001b[0mforward\u001b[0m\u001b[0;34m(\u001b[0m\u001b[0mself\u001b[0m\u001b[0;34m,\u001b[0m \u001b[0mx\u001b[0m\u001b[0;34m,\u001b[0m \u001b[0msublayer\u001b[0m\u001b[0;34m)\u001b[0m\u001b[0;34m:\u001b[0m\u001b[0;34m\u001b[0m\u001b[0;34m\u001b[0m\u001b[0m\n\u001b[1;32m     82\u001b[0m         \u001b[0;34m\"Apply residual connection to any sublayer with the same size.\"\u001b[0m\u001b[0;34m\u001b[0m\u001b[0;34m\u001b[0m\u001b[0m\n\u001b[0;32m---> 83\u001b[0;31m         \u001b[0;32mreturn\u001b[0m \u001b[0mx\u001b[0m \u001b[0;34m+\u001b[0m \u001b[0mself\u001b[0m\u001b[0;34m.\u001b[0m\u001b[0mdropout\u001b[0m\u001b[0;34m(\u001b[0m\u001b[0msublayer\u001b[0m\u001b[0;34m(\u001b[0m\u001b[0mself\u001b[0m\u001b[0;34m.\u001b[0m\u001b[0mnorm\u001b[0m\u001b[0;34m(\u001b[0m\u001b[0mx\u001b[0m\u001b[0;34m)\u001b[0m\u001b[0;34m)\u001b[0m\u001b[0;34m)\u001b[0m\u001b[0;34m\u001b[0m\u001b[0;34m\u001b[0m\u001b[0m\n\u001b[0m\u001b[1;32m     84\u001b[0m \u001b[0;34m\u001b[0m\u001b[0m\n\u001b[1;32m     85\u001b[0m \u001b[0;32mclass\u001b[0m \u001b[0mEncoderLayer\u001b[0m\u001b[0;34m(\u001b[0m\u001b[0mnn\u001b[0m\u001b[0;34m.\u001b[0m\u001b[0mModule\u001b[0m\u001b[0;34m)\u001b[0m\u001b[0;34m:\u001b[0m\u001b[0;34m\u001b[0m\u001b[0;34m\u001b[0m\u001b[0m\n",
      "\u001b[0;32m~/couplets/model.py\u001b[0m in \u001b[0;36m<lambda>\u001b[0;34m(x)\u001b[0m\n\u001b[1;32m    129\u001b[0m         \u001b[0mm\u001b[0m \u001b[0;34m=\u001b[0m \u001b[0mmemory\u001b[0m\u001b[0;34m\u001b[0m\u001b[0;34m\u001b[0m\u001b[0m\n\u001b[1;32m    130\u001b[0m         \u001b[0mx\u001b[0m \u001b[0;34m=\u001b[0m \u001b[0mself\u001b[0m\u001b[0;34m.\u001b[0m\u001b[0msublayer\u001b[0m\u001b[0;34m[\u001b[0m\u001b[0;36m0\u001b[0m\u001b[0;34m]\u001b[0m\u001b[0;34m(\u001b[0m\u001b[0mx\u001b[0m\u001b[0;34m,\u001b[0m \u001b[0;32mlambda\u001b[0m \u001b[0mx\u001b[0m\u001b[0;34m:\u001b[0m \u001b[0mself\u001b[0m\u001b[0;34m.\u001b[0m\u001b[0mself_attn\u001b[0m\u001b[0;34m(\u001b[0m\u001b[0mx\u001b[0m\u001b[0;34m,\u001b[0m \u001b[0mx\u001b[0m\u001b[0;34m,\u001b[0m \u001b[0mx\u001b[0m\u001b[0;34m,\u001b[0m \u001b[0mtgt_mask\u001b[0m\u001b[0;34m)\u001b[0m\u001b[0;34m)\u001b[0m\u001b[0;34m\u001b[0m\u001b[0;34m\u001b[0m\u001b[0m\n\u001b[0;32m--> 131\u001b[0;31m         \u001b[0mx\u001b[0m \u001b[0;34m=\u001b[0m \u001b[0mself\u001b[0m\u001b[0;34m.\u001b[0m\u001b[0msublayer\u001b[0m\u001b[0;34m[\u001b[0m\u001b[0;36m1\u001b[0m\u001b[0;34m]\u001b[0m\u001b[0;34m(\u001b[0m\u001b[0mx\u001b[0m\u001b[0;34m,\u001b[0m \u001b[0;32mlambda\u001b[0m \u001b[0mx\u001b[0m\u001b[0;34m:\u001b[0m \u001b[0mself\u001b[0m\u001b[0;34m.\u001b[0m\u001b[0msrc_attn\u001b[0m\u001b[0;34m(\u001b[0m\u001b[0mm\u001b[0m\u001b[0;34m,\u001b[0m \u001b[0mm\u001b[0m\u001b[0;34m,\u001b[0m \u001b[0mx\u001b[0m\u001b[0;34m,\u001b[0m \u001b[0msrc_mask\u001b[0m\u001b[0;34m)\u001b[0m\u001b[0;34m)\u001b[0m\u001b[0;34m\u001b[0m\u001b[0;34m\u001b[0m\u001b[0m\n\u001b[0m\u001b[1;32m    132\u001b[0m         \u001b[0mx\u001b[0m \u001b[0;34m=\u001b[0m \u001b[0mx\u001b[0m \u001b[0;34m+\u001b[0m \u001b[0mself\u001b[0m\u001b[0;34m.\u001b[0m\u001b[0mdropout\u001b[0m\u001b[0;34m(\u001b[0m\u001b[0mself\u001b[0m\u001b[0;34m.\u001b[0m\u001b[0mlinear\u001b[0m\u001b[0;34m(\u001b[0m\u001b[0mm\u001b[0m\u001b[0;34m)\u001b[0m\u001b[0;34m)\u001b[0m\u001b[0;34m\u001b[0m\u001b[0;34m\u001b[0m\u001b[0m\n\u001b[1;32m    133\u001b[0m         \u001b[0;32mreturn\u001b[0m \u001b[0mself\u001b[0m\u001b[0;34m.\u001b[0m\u001b[0msublayer\u001b[0m\u001b[0;34m[\u001b[0m\u001b[0;36m2\u001b[0m\u001b[0;34m]\u001b[0m\u001b[0;34m(\u001b[0m\u001b[0mx\u001b[0m\u001b[0;34m,\u001b[0m \u001b[0mself\u001b[0m\u001b[0;34m.\u001b[0m\u001b[0mfeed_forward\u001b[0m\u001b[0;34m)\u001b[0m\u001b[0;34m\u001b[0m\u001b[0;34m\u001b[0m\u001b[0m\n",
      "\u001b[0;32m~/.conda/envs/gyz37/lib/python3.7/site-packages/torch/nn/modules/module.py\u001b[0m in \u001b[0;36m__call__\u001b[0;34m(self, *input, **kwargs)\u001b[0m\n\u001b[1;32m    548\u001b[0m             \u001b[0mresult\u001b[0m \u001b[0;34m=\u001b[0m \u001b[0mself\u001b[0m\u001b[0;34m.\u001b[0m\u001b[0m_slow_forward\u001b[0m\u001b[0;34m(\u001b[0m\u001b[0;34m*\u001b[0m\u001b[0minput\u001b[0m\u001b[0;34m,\u001b[0m \u001b[0;34m**\u001b[0m\u001b[0mkwargs\u001b[0m\u001b[0;34m)\u001b[0m\u001b[0;34m\u001b[0m\u001b[0;34m\u001b[0m\u001b[0m\n\u001b[1;32m    549\u001b[0m         \u001b[0;32melse\u001b[0m\u001b[0;34m:\u001b[0m\u001b[0;34m\u001b[0m\u001b[0;34m\u001b[0m\u001b[0m\n\u001b[0;32m--> 550\u001b[0;31m             \u001b[0mresult\u001b[0m \u001b[0;34m=\u001b[0m \u001b[0mself\u001b[0m\u001b[0;34m.\u001b[0m\u001b[0mforward\u001b[0m\u001b[0;34m(\u001b[0m\u001b[0;34m*\u001b[0m\u001b[0minput\u001b[0m\u001b[0;34m,\u001b[0m \u001b[0;34m**\u001b[0m\u001b[0mkwargs\u001b[0m\u001b[0;34m)\u001b[0m\u001b[0;34m\u001b[0m\u001b[0;34m\u001b[0m\u001b[0m\n\u001b[0m\u001b[1;32m    551\u001b[0m         \u001b[0;32mfor\u001b[0m \u001b[0mhook\u001b[0m \u001b[0;32min\u001b[0m \u001b[0mself\u001b[0m\u001b[0;34m.\u001b[0m\u001b[0m_forward_hooks\u001b[0m\u001b[0;34m.\u001b[0m\u001b[0mvalues\u001b[0m\u001b[0;34m(\u001b[0m\u001b[0;34m)\u001b[0m\u001b[0;34m:\u001b[0m\u001b[0;34m\u001b[0m\u001b[0;34m\u001b[0m\u001b[0m\n\u001b[1;32m    552\u001b[0m             \u001b[0mhook_result\u001b[0m \u001b[0;34m=\u001b[0m \u001b[0mhook\u001b[0m\u001b[0;34m(\u001b[0m\u001b[0mself\u001b[0m\u001b[0;34m,\u001b[0m \u001b[0minput\u001b[0m\u001b[0;34m,\u001b[0m \u001b[0mresult\u001b[0m\u001b[0;34m)\u001b[0m\u001b[0;34m\u001b[0m\u001b[0;34m\u001b[0m\u001b[0m\n",
      "\u001b[0;32m~/couplets/model.py\u001b[0m in \u001b[0;36mforward\u001b[0;34m(self, query, key, value, mask)\u001b[0m\n\u001b[1;32m    181\u001b[0m         \u001b[0;31m# 2) Apply attention on all the projected vectors in batch.\u001b[0m\u001b[0;34m\u001b[0m\u001b[0;34m\u001b[0m\u001b[0;34m\u001b[0m\u001b[0m\n\u001b[1;32m    182\u001b[0m         x, self.attn = attention(query, key, value, mask=mask, \n\u001b[0;32m--> 183\u001b[0;31m                                  dropout=self.dropout)\n\u001b[0m\u001b[1;32m    184\u001b[0m \u001b[0;34m\u001b[0m\u001b[0m\n\u001b[1;32m    185\u001b[0m         \u001b[0;31m# 3) \"Concat\" using a view and apply a final linear.\u001b[0m\u001b[0;34m\u001b[0m\u001b[0;34m\u001b[0m\u001b[0;34m\u001b[0m\u001b[0m\n",
      "\u001b[0;32m~/couplets/model.py\u001b[0m in \u001b[0;36mattention\u001b[0;34m(query, key, value, mask, dropout)\u001b[0m\n\u001b[1;32m    149\u001b[0m     \u001b[0;31m# print(scores.shape,value.shape,mask.shape)\u001b[0m\u001b[0;34m\u001b[0m\u001b[0;34m\u001b[0m\u001b[0;34m\u001b[0m\u001b[0m\n\u001b[1;32m    150\u001b[0m     \u001b[0;32mif\u001b[0m \u001b[0mmask\u001b[0m \u001b[0;32mis\u001b[0m \u001b[0;32mnot\u001b[0m \u001b[0;32mNone\u001b[0m\u001b[0;34m:\u001b[0m\u001b[0;34m\u001b[0m\u001b[0;34m\u001b[0m\u001b[0m\n\u001b[0;32m--> 151\u001b[0;31m         \u001b[0mscores\u001b[0m \u001b[0;34m=\u001b[0m \u001b[0mscores\u001b[0m\u001b[0;34m.\u001b[0m\u001b[0mmasked_fill\u001b[0m\u001b[0;34m(\u001b[0m\u001b[0mmask\u001b[0m \u001b[0;34m==\u001b[0m \u001b[0;36m0\u001b[0m\u001b[0;34m,\u001b[0m \u001b[0;34m-\u001b[0m\u001b[0;36m1e9\u001b[0m\u001b[0;34m)\u001b[0m\u001b[0;34m\u001b[0m\u001b[0;34m\u001b[0m\u001b[0m\n\u001b[0m\u001b[1;32m    152\u001b[0m     \u001b[0mp_attn\u001b[0m \u001b[0;34m=\u001b[0m \u001b[0mF\u001b[0m\u001b[0;34m.\u001b[0m\u001b[0msoftmax\u001b[0m\u001b[0;34m(\u001b[0m\u001b[0mscores\u001b[0m\u001b[0;34m,\u001b[0m \u001b[0mdim\u001b[0m \u001b[0;34m=\u001b[0m \u001b[0;34m-\u001b[0m\u001b[0;36m1\u001b[0m\u001b[0;34m)\u001b[0m\u001b[0;34m\u001b[0m\u001b[0;34m\u001b[0m\u001b[0m\n\u001b[1;32m    153\u001b[0m     \u001b[0;32mif\u001b[0m \u001b[0mdropout\u001b[0m \u001b[0;32mis\u001b[0m \u001b[0;32mnot\u001b[0m \u001b[0;32mNone\u001b[0m\u001b[0;34m:\u001b[0m\u001b[0;34m\u001b[0m\u001b[0;34m\u001b[0m\u001b[0m\n",
      "\u001b[0;31mKeyboardInterrupt\u001b[0m: "
     ]
    }
   ],
   "source": [
    "firsts = ['天与云与山与水，上下一白',\n",
    "          '两个黄鹂鸣翠柳',\n",
    "          '无边落木萧萧下', \n",
    "          '月落乌啼霜满天', \n",
    "          '提刀上马，江山如画', \n",
    "          '兰亭临帖，行书如行云流水',\n",
    "          '荒烟漫草的年头，就连分手都很沉默',\n",
    "          '一条大河波浪宽，风吹稻花香两岸',\n",
    "          '我欲成仙，快乐齐天',\n",
    "          '只有刚强的人，才有神圣的意志，凡是战斗的人，才能取得胜利',\n",
    "          '？',\n",
    "         ]\n",
    "for first in firsts:\n",
    "    print_match_all(first, beamsize=5)\n",
    "    print('\\n')"
   ]
  },
  {
   "cell_type": "code",
   "execution_count": 148,
   "metadata": {
    "collapsed": true,
    "jupyter": {
     "outputs_hidden": true
    }
   },
   "outputs": [
    {
     "name": "stdout",
     "output_type": "stream",
     "text": [
      "src   : ['莫让浮名耽岁月']\n",
      "true  : ['且留正气满乾坤']\n",
      "mask  : ['〇留正〇〇〇〇']\n",
      "greedy: ['但留正气满乾坤']\n",
      "beam 1D:\n",
      " [['但留正气度人生']\n",
      " ['但留正气满乾坤']]\n",
      "beam 2D:\n",
      " [['但留正气度人生']\n",
      " ['但留正气写人生']\n",
      " ['但留正气满乾坤']\n",
      " ['但留正气壮乾坤']\n",
      " ['长留正气度人生']]\n",
      "beam 2D 2:\n",
      " [['长留正气满乾坤']\n",
      " ['长留正气度人生']\n",
      " ['长留正气写人生']\n",
      " ['常留正气满乾坤']\n",
      " ['长留正道度人生']]\n",
      "beam margin:\n",
      " [['但留正气度人生']\n",
      " ['但留正气满乾坤']\n",
      " ['长留正气满乾坤']\n",
      " ['但留正气写人生']\n",
      " ['但留正气壮乾坤']]\n",
      "========\n",
      "src   : ['风吹羊头夕阳醉']\n",
      "true  : ['雨润丹河霞光美']\n",
      "mask  : ['〇〇〇〇〇〇〇']\n",
      "greedy: ['雨润田间谷穗香']\n",
      "beam 1D:\n",
      " [['雨润田间谷穗香']\n",
      " ['雨润心田谷穗香']]\n",
      "beam 2D:\n",
      " [['雨润田间谷穗香']\n",
      " ['雨润大地谷穗香']\n",
      " ['雨润田园谷穗香']\n",
      " ['雨润心田谷穗香']\n",
      " ['雨润田地谷穗香']]\n",
      "beam 2D 2:\n",
      " [['花满人间春意浓']\n",
      " ['花满人间诗意浓']\n",
      " ['花开满园春意浓']\n",
      " ['花艳满园春意浓']\n",
      " ['花落人间春意浓']]\n",
      "beam margin:\n",
      " [['雨润田间谷穗香']\n",
      " ['雨润田园谷穗香']\n",
      " ['雨润心田谷穗香']\n",
      " ['雨润田地谷穗香']\n",
      " ['雨润田田谷穗香']]\n",
      "========\n"
     ]
    }
   ],
   "source": [
    "for i, batch in enumerate(teIT):\n",
    "    batch = parse_pybatch(batch,0.8)\n",
    "    src = batch.src[:1]\n",
    "    src_pad_mask = batch.src_pad_mask[:1]\n",
    "    trg = batch.trg[:1]\n",
    "    trg_y = batch.trg_y[:1]\n",
    "    trg_mask = batch.trg_mask[:1]\n",
    "    trg_pad_mask = batch.trg_pad_mask[:1]\n",
    "#     out = decode(model, src, src_mask)\n",
    "    print(\"src   :\", itos(src.cpu().numpy()))\n",
    "    print(\"true  :\", itos(trg_y.cpu().numpy()))\n",
    "    print(\"mask  :\", [s.replace(MASK_TOKEN, \"〇\") for s in itos(trg.cpu().numpy())])\n",
    "    print(\"greedy:\", itos(decode_greedy(model, src, trg.clone(), \n",
    "                          mask_int=VOCAB.stoi[MASK_TOKEN], pad_int=VOCAB.stoi[PAD_TOKEN]).cpu().numpy()))\n",
    "    print(\"beam 1D:\\n\", array(itos([r.cpu().numpy() for r in beam_decode_engine(model, src, trg.clone(), 5, decode_1D_step, \n",
    "                          mask_int=VOCAB.stoi[MASK_TOKEN], pad_int=VOCAB.stoi[PAD_TOKEN])])))\n",
    "    print(\"beam 2D:\\n\", array(itos([r.cpu().numpy() for r in beam_decode_engine(model, src, trg.clone(), 5, decode_2D_step, \n",
    "                          mask_int=VOCAB.stoi[MASK_TOKEN], pad_int=VOCAB.stoi[PAD_TOKEN])])))\n",
    "    print(\"beam 2D 2:\\n\", array(itos([r.cpu().numpy() for r in decode_beam_2D_2(model, src, trg.clone(), 5, \n",
    "                          mask_int=VOCAB.stoi[MASK_TOKEN], pad_int=VOCAB.stoi[PAD_TOKEN])])))\n",
    "    print(\"beam margin:\\n\", array(itos([r.cpu().numpy() for r in beam_decode_engine(model, src, trg.clone(), 5, decode_margin_step, \n",
    "                          mask_int=VOCAB.stoi[MASK_TOKEN], pad_int=VOCAB.stoi[PAD_TOKEN])])))\n",
    "    print('='*8)\n",
    "    if i == 1:\n",
    "        break"
   ]
  },
  {
   "cell_type": "code",
   "execution_count": 800,
   "metadata": {},
   "outputs": [
    {
     "name": "stdout",
     "output_type": "stream",
     "text": [
      "上联: 行书如行云流水\n",
      "onepass: ['明卷若明月阳风']\n",
      "greedy : ['品茗若品月清风']\n",
      "beam_1D:\n",
      " [['品茗似品竹啸风']\n",
      " ['品茗似品竹摇风']\n",
      " ['品茗若品竹摇风']\n",
      " ['明镜若明月清风']]\n",
      "beam_2D:\n",
      " [['品茗似品竹摇风']\n",
      " ['品茗若品竹摇风']\n",
      " ['品茗似品竹啸风']\n",
      " ['品茗若品竹啸风']\n",
      " ['明月似明月清风']]\n",
      "beam_2D_2:\n",
      " [['明镜似明月照人']\n",
      " ['明镜若明月照人']\n",
      " ['明镜自明月照人']\n",
      " ['明镜犹明月照人']\n",
      " ['展卷有展艳阳天']]\n",
      "beam_margin:\n",
      " [['品茗似品竹摇风']\n",
      " ['品茗似品竹啸风']\n",
      " ['品茗若品竹摇风']\n",
      " ['品茗若品竹啸风']\n",
      " ['品德似品竹啸风']]\n"
     ]
    }
   ],
   "source": [
    "print_match_all('行书如行云流水', '')"
   ]
  },
  {
   "cell_type": "markdown",
   "metadata": {},
   "source": [
    "# visualization"
   ]
  },
  {
   "cell_type": "code",
   "execution_count": 343,
   "metadata": {},
   "outputs": [
    {
     "data": {
      "text/plain": [
       "['人和月和花和月，春秋千红']"
      ]
     },
     "execution_count": 343,
     "metadata": {},
     "output_type": "execute_result"
    }
   ],
   "source": [
    "sent = '天与云与山与水，上下一白'\n",
    "model.eval()\n",
    "pred = match_couplet_onepass(sent,'    花')\n",
    "tgt_sent = pred[0]\n",
    "pred"
   ]
  },
  {
   "cell_type": "code",
   "execution_count": 344,
   "metadata": {},
   "outputs": [
    {
     "data": {
      "text/plain": [
       "torch.Size([1, 8, 12, 12])"
      ]
     },
     "execution_count": 344,
     "metadata": {},
     "output_type": "execute_result"
    }
   ],
   "source": [
    "model.decoder.layers[0].self_attn.attn.shape"
   ]
  },
  {
   "cell_type": "code",
   "execution_count": 345,
   "metadata": {},
   "outputs": [
    {
     "name": "stdout",
     "output_type": "stream",
     "text": [
      "Encoder Layer 2\n"
     ]
    },
    {
     "data": {
      "image/png": "[encoded data removed]",
      "text/plain": [
       "<Figure size 1440x720 with 4 Axes>"
      ]
     },
     "metadata": {},
     "output_type": "display_data"
    },
    {
     "name": "stdout",
     "output_type": "stream",
     "text": [
      "Encoder Layer 4\n"
     ]
    },
    {
     "data": {
      "image/png": "[encoded data removed]",
      "text/plain": [
       "<Figure size 1440x720 with 4 Axes>"
      ]
     },
     "metadata": {},
     "output_type": "display_data"
    },
    {
     "name": "stdout",
     "output_type": "stream",
     "text": [
      "Encoder Layer 6\n"
     ]
    },
    {
     "data": {
      "image/png": "[encoded data removed]",
      "text/plain": [
       "<Figure size 1440x720 with 4 Axes>"
      ]
     },
     "metadata": {},
     "output_type": "display_data"
    },
    {
     "name": "stdout",
     "output_type": "stream",
     "text": [
      "Decoder Self Layer 2\n"
     ]
    },
    {
     "data": {
      "image/png": "[encoded data removed]",
      "text/plain": [
       "<Figure size 1440x720 with 4 Axes>"
      ]
     },
     "metadata": {},
     "output_type": "display_data"
    },
    {
     "name": "stdout",
     "output_type": "stream",
     "text": [
      "Decoder Src Layer 2\n"
     ]
    },
    {
     "data": {
      "image/png": "[encoded data removed]",
      "text/plain": [
       "<Figure size 1440x720 with 4 Axes>"
      ]
     },
     "metadata": {},
     "output_type": "display_data"
    },
    {
     "name": "stdout",
     "output_type": "stream",
     "text": [
      "Decoder Self Layer 4\n"
     ]
    },
    {
     "data": {
      "image/png": "[encoded data removed]",
      "text/plain": [
       "<Figure size 1440x720 with 4 Axes>"
      ]
     },
     "metadata": {},
     "output_type": "display_data"
    },
    {
     "name": "stdout",
     "output_type": "stream",
     "text": [
      "Decoder Src Layer 4\n"
     ]
    },
    {
     "data": {
      "image/png": "[encoded data removed]",
      "text/plain": [
       "<Figure size 1440x720 with 4 Axes>"
      ]
     },
     "metadata": {},
     "output_type": "display_data"
    },
    {
     "name": "stdout",
     "output_type": "stream",
     "text": [
      "Decoder Self Layer 6\n"
     ]
    },
    {
     "data": {
      "image/png": "[encoded data removed]",
      "text/plain": [
       "<Figure size 1440x720 with 4 Axes>"
      ]
     },
     "metadata": {},
     "output_type": "display_data"
    },
    {
     "name": "stdout",
     "output_type": "stream",
     "text": [
      "Decoder Src Layer 6\n"
     ]
    },
    {
     "data": {
      "image/png": "[encoded data removed]",
      "text/plain": [
       "<Figure size 1440x720 with 4 Axes>"
      ]
     },
     "metadata": {},
     "output_type": "display_data"
    }
   ],
   "source": [
    "from matplotlib.font_manager import FontProperties\n",
    "myfont=FontProperties(fname=r'wqy-microhei.ttc')\n",
    "def draw(data, x, y, ax):\n",
    "    ax.imshow(data, cmap='YlGn', vmin=0, vmax=1)\n",
    "    ax.set_xticks(np.arange(len(x)))\n",
    "    ax.set_yticks(np.arange(len(y)))\n",
    "    ax.set_xticklabels(x, fontproperties=myfont)\n",
    "    ax.set_yticklabels(y, fontproperties=myfont)\n",
    "    ax.grid(False)\n",
    "    \n",
    "for layer in range(1, 6, 2):\n",
    "    fig, axs = plt.subplots(1,4, figsize=(20, 10))\n",
    "    print(\"Encoder Layer\", layer+1)\n",
    "    for h in range(4):\n",
    "        draw(model.encoder.layers[layer].self_attn.attn[0, h].cpu().data, \n",
    "            sent, sent, ax=axs[h])\n",
    "    plt.show()\n",
    "    \n",
    "for layer in range(1, 6, 2):\n",
    "    fig, axs = plt.subplots(1,4, figsize=(20, 10))\n",
    "    print(\"Decoder Self Layer\", layer+1)\n",
    "    for h in range(4):\n",
    "        draw(model.decoder.layers[layer].self_attn.attn[0, h].cpu().data[:len(tgt_sent), :len(tgt_sent)], \n",
    "            tgt_sent, tgt_sent, ax=axs[h])\n",
    "    plt.show()\n",
    "    print(\"Decoder Src Layer\", layer+1)\n",
    "    fig, axs = plt.subplots(1,4, figsize=(20, 10))\n",
    "    for h in range(4):\n",
    "        draw(model.decoder.layers[layer].self_attn.attn[0, h].cpu().data[:len(sent), :len(sent)], \n",
    "            sent, sent, ax=axs[h])\n",
    "    plt.show()\n",
    "    \n"
   ]
  },
  {
   "cell_type": "code",
   "execution_count": null,
   "metadata": {},
   "outputs": [],
   "source": []
  }
 ],
 "metadata": {
  "kernelspec": {
   "display_name": "Python 3",
   "language": "python",
   "name": "python3"
  },
  "language_info": {
   "codemirror_mode": {
    "name": "ipython",
    "version": 3
   },
   "file_extension": ".py",
   "mimetype": "text/x-python",
   "name": "python",
   "nbconvert_exporter": "python",
   "pygments_lexer": "ipython3",
   "version": "3.7.6"
  },
  "toc-showcode": false
 },
 "nbformat": 4,
 "nbformat_minor": 4
}
